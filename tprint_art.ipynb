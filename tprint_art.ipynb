{
  "nbformat": 4,
  "nbformat_minor": 0,
  "metadata": {
    "colab": {
      "provenance": [],
      "authorship_tag": "ABX9TyPS/C2YJ6KSNnOfctk+ye8r",
      "include_colab_link": true
    },
    "kernelspec": {
      "name": "python3",
      "display_name": "Python 3"
    },
    "language_info": {
      "name": "python"
    }
  },
  "cells": [
    {
      "cell_type": "markdown",
      "metadata": {
        "id": "view-in-github",
        "colab_type": "text"
      },
      "source": [
        "<a href=\"https://colab.research.google.com/github/allansdefreitas/deep-learning/blob/main/tprint_art.ipynb\" target=\"_parent\"><img src=\"https://colab.research.google.com/assets/colab-badge.svg\" alt=\"Open In Colab\"/></a>"
      ]
    },
    {
      "cell_type": "code",
      "execution_count": null,
      "metadata": {
        "colab": {
          "base_uri": "https://localhost:8080/"
        },
        "id": "FyfDfvsHhlSc",
        "outputId": "992fca88-d1cb-4e1e-d75b-e15db5044630"
      },
      "outputs": [
        {
          "output_type": "stream",
          "name": "stdout",
          "text": [
            "Looking in indexes: https://pypi.org/simple, https://us-python.pkg.dev/colab-wheels/public/simple/\n",
            "Requirement already satisfied: art in /usr/local/lib/python3.10/dist-packages (6.0)\n"
          ]
        }
      ],
      "source": [
        "\n",
        "\n",
        "!pip install art"
      ]
    },
    {
      "cell_type": "code",
      "source": [
        "from art import tprint, aprint"
      ],
      "metadata": {
        "id": "l1fshdTyhoqB"
      },
      "execution_count": null,
      "outputs": []
    },
    {
      "cell_type": "code",
      "source": [
        "tprint('TensorFlow')"
      ],
      "metadata": {
        "colab": {
          "base_uri": "https://localhost:8080/"
        },
        "id": "t5SP6_xehr3X",
        "outputId": "de22aa4f-d44a-4f54-8842-c4506f0061d2"
      },
      "execution_count": null,
      "outputs": [
        {
          "output_type": "stream",
          "name": "stdout",
          "text": [
            " _____                                 _____  _                  \n",
            "|_   _|  ___  _ __   ___   ___   _ __ |  ___|| |  ___  __      __\n",
            "  | |   / _ \\| '_ \\ / __| / _ \\ | '__|| |_   | | / _ \\ \\ \\ /\\ / /\n",
            "  | |  |  __/| | | |\\__ \\| (_) || |   |  _|  | || (_) | \\ V  V / \n",
            "  |_|   \\___||_| |_||___/ \\___/ |_|   |_|    |_| \\___/   \\_/\\_/  \n",
            "                                                                 \n",
            "\n"
          ]
        }
      ]
    },
    {
      "cell_type": "code",
      "source": [
        "tprint('TensorFlow    at    all')"
      ],
      "metadata": {
        "colab": {
          "base_uri": "https://localhost:8080/"
        },
        "id": "RIEHe9ZdiJYA",
        "outputId": "c6589dcc-1066-4ff0-9a5e-b343d4ca6b36"
      },
      "execution_count": null,
      "outputs": [
        {
          "output_type": "stream",
          "name": "stdout",
          "text": [
            " _____                                 _____  _                              _               _  _ \n",
            "|_   _|  ___  _ __   ___   ___   _ __ |  ___|| |  ___  __      __      __ _ | |_       __ _ | || |\n",
            "  | |   / _ \\| '_ \\ / __| / _ \\ | '__|| |_   | | / _ \\ \\ \\ /\\ / /     / _` || __|     / _` || || |\n",
            "  | |  |  __/| | | |\\__ \\| (_) || |   |  _|  | || (_) | \\ V  V /     | (_| || |_     | (_| || || |\n",
            "  |_|   \\___||_| |_||___/ \\___/ |_|   |_|    |_| \\___/   \\_/\\_/       \\__,_| \\__|     \\__,_||_||_|\n",
            "                                                                                                  \n",
            "\n"
          ]
        }
      ]
    }
  ]
}