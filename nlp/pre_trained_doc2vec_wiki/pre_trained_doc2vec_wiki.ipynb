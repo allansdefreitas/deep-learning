{
 "cells": [
  {
   "cell_type": "code",
   "execution_count": 34,
   "metadata": {},
   "outputs": [],
   "source": [
    "import gensim.models as g\n",
    "import codecs"
   ]
  },
  {
   "cell_type": "markdown",
   "metadata": {},
   "source": [
    "### Doc2vec"
   ]
  },
  {
   "cell_type": "code",
   "execution_count": 25,
   "metadata": {},
   "outputs": [],
   "source": [
    "model_src=\"../../models/enwiki_dbow/doc2vec.bin\"\n",
    "test_docs_src=\"data/input_test_docs.txt\"\n",
    "output_file_src=\"data/_output_test_vectors.txt\""
   ]
  },
  {
   "cell_type": "code",
   "execution_count": 26,
   "metadata": {},
   "outputs": [],
   "source": [
    "#inference hyper-parameters\n",
    "start_alpha=0.01\n",
    "infer_epoch=1000"
   ]
  },
  {
   "cell_type": "code",
   "execution_count": 27,
   "metadata": {},
   "outputs": [],
   "source": [
    "#load model\n",
    "m = g.Doc2Vec.load(model_src)\n",
    "test_docs = [ x.strip().split() for x in codecs.open(test_docs_src, \"r\", \"utf-8\").readlines() ] "
   ]
  },
  {
   "cell_type": "code",
   "execution_count": 28,
   "metadata": {},
   "outputs": [
    {
     "data": {
      "text/plain": [
       "'data/test_docs.txt'"
      ]
     },
     "execution_count": 28,
     "metadata": {},
     "output_type": "execute_result"
    }
   ],
   "source": [
    "test_docs_src"
   ]
  },
  {
   "cell_type": "code",
   "execution_count": 29,
   "metadata": {},
   "outputs": [
    {
     "data": {
      "text/plain": [
       "[['Now',\n",
       "  'there',\n",
       "  'was',\n",
       "  'a',\n",
       "  'certain',\n",
       "  'man',\n",
       "  'of',\n",
       "  'Ramathaimzophim,',\n",
       "  'of',\n",
       "  'mount',\n",
       "  'Ephraim,',\n",
       "  'and',\n",
       "  'his',\n",
       "  'name',\n",
       "  'was',\n",
       "  'Elkanah,',\n",
       "  'the',\n",
       "  'son',\n",
       "  'of',\n",
       "  'Jeroham,',\n",
       "  'the',\n",
       "  'son',\n",
       "  'of',\n",
       "  'Elihu,',\n",
       "  'the',\n",
       "  'son',\n",
       "  'of',\n",
       "  'Tohu,',\n",
       "  'the',\n",
       "  'son',\n",
       "  'of',\n",
       "  'Zuph,',\n",
       "  'an',\n",
       "  'Ephrathite:'],\n",
       " ['And',\n",
       "  'this',\n",
       "  'man',\n",
       "  'went',\n",
       "  'up',\n",
       "  'out',\n",
       "  'of',\n",
       "  'his',\n",
       "  'city',\n",
       "  'yearly',\n",
       "  'to',\n",
       "  'worship',\n",
       "  'and',\n",
       "  'to',\n",
       "  'sacrifice',\n",
       "  'unto',\n",
       "  'the',\n",
       "  'LORD',\n",
       "  'of',\n",
       "  'hosts',\n",
       "  'in',\n",
       "  'Shiloh.',\n",
       "  'And',\n",
       "  'the',\n",
       "  'two',\n",
       "  'sons',\n",
       "  'of',\n",
       "  'Eli,',\n",
       "  'Hophni',\n",
       "  'and',\n",
       "  'Phinehas,',\n",
       "  'the',\n",
       "  'priests',\n",
       "  'of',\n",
       "  'the',\n",
       "  'LORD,',\n",
       "  'were',\n",
       "  'there.']]"
      ]
     },
     "execution_count": 29,
     "metadata": {},
     "output_type": "execute_result"
    }
   ],
   "source": [
    "test_docs"
   ]
  },
  {
   "cell_type": "code",
   "execution_count": 32,
   "metadata": {},
   "outputs": [],
   "source": [
    "#infer test vectors\n",
    "output = open(output_file_src, \"w\")\n",
    "for d in test_docs:\n",
    "    output.write( \" \".join([str(x) for x in m.infer_vector(d, alpha=start_alpha, steps=infer_epoch)]) + \"\\n\\n\" )\n",
    "output.flush()\n",
    "output.close()"
   ]
  },
  {
   "cell_type": "markdown",
   "metadata": {},
   "source": [
    "### Text Clustering: next file..."
   ]
  },
  {
   "cell_type": "code",
   "execution_count": null,
   "metadata": {},
   "outputs": [],
   "source": []
  },
  {
   "cell_type": "code",
   "execution_count": null,
   "metadata": {},
   "outputs": [],
   "source": []
  }
 ],
 "metadata": {
  "kernelspec": {
   "display_name": "Python 3",
   "language": "python",
   "name": "python3"
  },
  "language_info": {
   "codemirror_mode": {
    "name": "ipython",
    "version": 3
   },
   "file_extension": ".py",
   "mimetype": "text/x-python",
   "name": "python",
   "nbconvert_exporter": "python",
   "pygments_lexer": "ipython3",
   "version": "3.7.3"
  }
 },
 "nbformat": 4,
 "nbformat_minor": 2
}
