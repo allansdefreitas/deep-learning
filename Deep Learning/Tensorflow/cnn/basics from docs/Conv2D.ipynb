{
 "cells": [
  {
   "cell_type": "code",
   "execution_count": null,
   "id": "fcc895e1",
   "metadata": {},
   "outputs": [],
   "source": [
    "\"\"\"\n",
    "https://www.tensorflow.org/api_docs/python/tf/keras/layers/Conv2D\n",
    "\"\"\""
   ]
  },
  {
   "cell_type": "code",
   "execution_count": 1,
   "id": "36c5d636",
   "metadata": {},
   "outputs": [],
   "source": [
    "import tensorflow as tf"
   ]
  },
  {
   "cell_type": "markdown",
   "id": "3305f2c7",
   "metadata": {},
   "source": [
    "# 1"
   ]
  },
  {
   "cell_type": "code",
   "execution_count": 10,
   "id": "c4237388",
   "metadata": {},
   "outputs": [],
   "source": [
    "x = tf.constant([[1., 2., 3.],\n",
    "                 [4., 5., 6.],\n",
    "                 [7., 8., 9.]])"
   ]
  },
  {
   "cell_type": "code",
   "execution_count": 11,
   "id": "31204e1b",
   "metadata": {},
   "outputs": [
    {
     "data": {
      "text/plain": [
       "<tf.Tensor: shape=(1, 3, 3, 1), dtype=float32, numpy=\n",
       "array([[[[1.],\n",
       "         [2.],\n",
       "         [3.]],\n",
       "\n",
       "        [[4.],\n",
       "         [5.],\n",
       "         [6.]],\n",
       "\n",
       "        [[7.],\n",
       "         [8.],\n",
       "         [9.]]]], dtype=float32)>"
      ]
     },
     "execution_count": 11,
     "metadata": {},
     "output_type": "execute_result"
    }
   ],
   "source": [
    "x = tf.reshape(x, [1, 3, 3, 1])\n",
    "x"
   ]
  },
  {
   "cell_type": "code",
   "execution_count": 12,
   "id": "0f124c2d",
   "metadata": {},
   "outputs": [],
   "source": [
    "max_pool_2d = tf.keras.layers.MaxPooling2D(pool_size=(2, 2),\n",
    "   strides=(1, 1), padding='valid') #valid means \"no padding\""
   ]
  },
  {
   "cell_type": "code",
   "execution_count": 13,
   "id": "ea6e0cc0",
   "metadata": {},
   "outputs": [
    {
     "data": {
      "text/plain": [
       "<tf.Tensor: shape=(1, 2, 2, 1), dtype=float32, numpy=\n",
       "array([[[[5.],\n",
       "         [6.]],\n",
       "\n",
       "        [[8.],\n",
       "         [9.]]]], dtype=float32)>"
      ]
     },
     "execution_count": 13,
     "metadata": {},
     "output_type": "execute_result"
    }
   ],
   "source": [
    "max_pool_2d(x)"
   ]
  },
  {
   "cell_type": "markdown",
   "id": "61058061",
   "metadata": {},
   "source": [
    "# 2"
   ]
  },
  {
   "cell_type": "code",
   "execution_count": 22,
   "id": "9448e765",
   "metadata": {},
   "outputs": [
    {
     "name": "stdout",
     "output_type": "stream",
     "text": [
      "tf.Tensor(\n",
      "[[ 1.  2.  3.  4.]\n",
      " [ 5.  6.  7.  8.]\n",
      " [ 9. 10. 11. 12.]], shape=(3, 4), dtype=float32)\n"
     ]
    }
   ],
   "source": [
    "x = tf.constant([[1., 2., 3., 4.],\n",
    "                 [5., 6., 7., 8.],\n",
    "                 [9., 10., 11., 12.]])\n",
    "print(x)"
   ]
  },
  {
   "cell_type": "code",
   "execution_count": 23,
   "id": "4516fc58",
   "metadata": {},
   "outputs": [
    {
     "name": "stdout",
     "output_type": "stream",
     "text": [
      "tf.Tensor(\n",
      "[[[[ 1.]\n",
      "   [ 2.]\n",
      "   [ 3.]\n",
      "   [ 4.]]\n",
      "\n",
      "  [[ 5.]\n",
      "   [ 6.]\n",
      "   [ 7.]\n",
      "   [ 8.]]\n",
      "\n",
      "  [[ 9.]\n",
      "   [10.]\n",
      "   [11.]\n",
      "   [12.]]]], shape=(1, 3, 4, 1), dtype=float32)\n"
     ]
    }
   ],
   "source": [
    "x = tf.reshape(x, [1, 3, 4, 1])\n",
    "print(x)"
   ]
  },
  {
   "cell_type": "code",
   "execution_count": 26,
   "id": "b26f227e",
   "metadata": {},
   "outputs": [],
   "source": [
    "max_pool_2d = tf.keras.layers.MaxPooling2D(pool_size=(2, 2),\n",
    "   strides=(2, 2), padding='valid')"
   ]
  },
  {
   "cell_type": "code",
   "execution_count": 27,
   "id": "5dc0e18a",
   "metadata": {},
   "outputs": [
    {
     "data": {
      "text/plain": [
       "<tf.Tensor: shape=(1, 1, 2, 1), dtype=float32, numpy=\n",
       "array([[[[6.],\n",
       "         [8.]]]], dtype=float32)>"
      ]
     },
     "execution_count": 27,
     "metadata": {},
     "output_type": "execute_result"
    }
   ],
   "source": [
    "max_pool_2d(x)"
   ]
  },
  {
   "cell_type": "markdown",
   "id": "e3156b8d",
   "metadata": {},
   "source": [
    "# 3"
   ]
  },
  {
   "cell_type": "code",
   "execution_count": 28,
   "id": "111605ac",
   "metadata": {},
   "outputs": [
    {
     "data": {
      "text/plain": [
       "<tf.Tensor: shape=(1, 2, 2, 1), dtype=float32, numpy=\n",
       "array([[[[ 6.],\n",
       "         [ 8.]],\n",
       "\n",
       "        [[10.],\n",
       "         [12.]]]], dtype=float32)>"
      ]
     },
     "execution_count": 28,
     "metadata": {},
     "output_type": "execute_result"
    }
   ],
   "source": [
    "max_pool_2d = tf.keras.layers.MaxPooling2D(pool_size=(2, 2),\n",
    "   strides=(2, 2), padding='same')\n",
    "\n",
    "max_pool_2d(x)"
   ]
  },
  {
   "cell_type": "code",
   "execution_count": null,
   "id": "e8ffb3c8",
   "metadata": {},
   "outputs": [],
   "source": []
  }
 ],
 "metadata": {
  "kernelspec": {
   "display_name": "Python 3 (ipykernel)",
   "language": "python",
   "name": "python3"
  },
  "language_info": {
   "codemirror_mode": {
    "name": "ipython",
    "version": 3
   },
   "file_extension": ".py",
   "mimetype": "text/x-python",
   "name": "python",
   "nbconvert_exporter": "python",
   "pygments_lexer": "ipython3",
   "version": "3.7.13"
  }
 },
 "nbformat": 4,
 "nbformat_minor": 5
}
