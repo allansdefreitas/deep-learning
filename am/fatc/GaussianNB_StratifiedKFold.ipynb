{
 "cells": [
  {
   "cell_type": "code",
   "execution_count": 61,
   "metadata": {},
   "outputs": [],
   "source": [
    "#From: https://scikit-learn.org/stable/modules/generated/sklearn.naive_bayes.GaussianNB.html\n",
    "import numpy as np\n",
    "from sklearn.naive_bayes import GaussianNB\n",
    "from sklearn.model_selection import StratifiedKFold"
   ]
  },
  {
   "cell_type": "code",
   "execution_count": 62,
   "metadata": {},
   "outputs": [],
   "source": [
    "#Quantidade de folds\n",
    "k_folds = 2"
   ]
  },
  {
   "cell_type": "code",
   "execution_count": 63,
   "metadata": {},
   "outputs": [
    {
     "name": "stdout",
     "output_type": "stream",
     "text": [
      "[[-1 -1]\n",
      " [-2 -1]\n",
      " [-3 -2]\n",
      " [ 1  1]\n",
      " [ 2  1]\n",
      " [ 3  2]]\n"
     ]
    }
   ],
   "source": [
    "X_train_original = np.array([[-1, -1], [-2, -1], [-3, -2], [1, 1], [2, 1], [3, 2]])  #training data (samples)\n",
    "\n",
    "print(X_train_original)"
   ]
  },
  {
   "cell_type": "code",
   "execution_count": 64,
   "metadata": {},
   "outputs": [
    {
     "data": {
      "text/plain": [
       "array([1, 1, 1, 2, 2, 2])"
      ]
     },
     "execution_count": 64,
     "metadata": {},
     "output_type": "execute_result"
    }
   ],
   "source": [
    "y_labeled = np.array([1, 1, 1, 2, 2, 2])  #labels of data (classes of data)\n",
    "y_labeled"
   ]
  },
  {
   "cell_type": "code",
   "execution_count": 65,
   "metadata": {},
   "outputs": [],
   "source": [
    "#Naive Bayes Classifier\n",
    "clf = GaussianNB()"
   ]
  },
  {
   "cell_type": "code",
   "execution_count": 66,
   "metadata": {},
   "outputs": [],
   "source": [
    "#  stratified KFold: For cross validation\n",
    "skf = StratifiedKFold(n_splits=k_folds)"
   ]
  },
  {
   "cell_type": "code",
   "execution_count": 67,
   "metadata": {},
   "outputs": [
    {
     "data": {
      "text/plain": [
       "2"
      ]
     },
     "execution_count": 67,
     "metadata": {},
     "output_type": "execute_result"
    }
   ],
   "source": [
    "# Splitting train data in folds (2 folds)\n",
    "skf.get_n_splits(X_train_original, y_labeled)"
   ]
  },
  {
   "cell_type": "code",
   "execution_count": 68,
   "metadata": {},
   "outputs": [],
   "source": [
    "somatorio_acuracia = 0"
   ]
  },
  {
   "cell_type": "code",
   "execution_count": 73,
   "metadata": {},
   "outputs": [
    {
     "name": "stdout",
     "output_type": "stream",
     "text": [
      "TRAIN (index): [2 5] TEST (index): [0 1 3 4]\n",
      "acuracia_atual: 1.0\n",
      "TRAIN (index): [0 1 3 4] TEST (index): [2 5]\n",
      "acuracia_atual: 1.0\n"
     ]
    }
   ],
   "source": [
    "\"\"\"\n",
    "1.for de i a K\n",
    "\ta. pega um fold para validação e o restante para treinamento (o método que faz isso por si)\n",
    "\tb. treina o modelo com os folds de treinamento e testa com os folds de validação pra ver se a predições estão corretas\n",
    "\tc. somatório: pega a acurácia atual (acurácia i)\n",
    "\n",
    "2.pega a média das acurácias (somatório acurácias / K)\n",
    "\"\"\"\n",
    "for train_index, test_index in skf.split(X_train_original, y_labeled):\n",
    "    \n",
    "    #Mostra como foi feita a divisão: mostra os índices dos elementos separados para treino e teste do fold atual \n",
    "    print(\"TRAIN (index):\", train_index, \"TEST (index):\", test_index)  \n",
    "    \n",
    "    # PT: Separando os folds para treino e teste\n",
    "    X_train, X_test = X_train_original[train_index], X_train_original[test_index]\n",
    " \n",
    "    #print(\"X_train\", X_train)\n",
    "    #print(\"X_test\", X_test)\n",
    "        \n",
    "    # EN: validation for train and test (same indexes of X_train and X_test, at same order)\n",
    "    # PT: Separando os folds LABELED para conferir com o treino (y_train) E verificar a acurácia do teste (y_test)\n",
    "    y_train, y_test = y_labeled[train_index], y_labeled[test_index]\n",
    "    \n",
    "    #print(\"y_train\", y_train)\n",
    "    \n",
    "    \n",
    "    \"\"\"Treinando....................................... \"\"\"\n",
    "    #Treinando o modelo GaussianNB: associando os folds correspondentes para treinamento, OU SEJA, \n",
    "    #dados de treino x com os true labels de y\n",
    "    clf.fit(X_train, y_train)\n",
    "    \n",
    "    \"\"\"Testando....................................... \"\"\"\n",
    "    #print(\"predict\",clf.predict( X_test ))\n",
    "    #print(\"y_test\", y_test)\n",
    "    \n",
    "    #Obtendo a acurácia atual: esse método retorna a média de acerto DESSA rodada de testes\n",
    "    #score: Returns the mean accuracy on the given test data and labels.\n",
    "    acuracia_atual = clf.score(X_test, y_test)\n",
    "    \n",
    "    #Fazendo somatório das acurácias para posterior média\n",
    "    somatorio_acuracia += acuracia_atual\n",
    "    \n",
    "    print(\"acuracia_atual:\", acuracia_atual)    "
   ]
  },
  {
   "cell_type": "code",
   "execution_count": 71,
   "metadata": {},
   "outputs": [
    {
     "data": {
      "text/plain": [
       "1.0"
      ]
     },
     "execution_count": 71,
     "metadata": {},
     "output_type": "execute_result"
    }
   ],
   "source": [
    "media_acuracia = somatorio_acuracia / k_folds\n",
    "media_acuracia"
   ]
  },
  {
   "cell_type": "code",
   "execution_count": null,
   "metadata": {},
   "outputs": [],
   "source": []
  },
  {
   "cell_type": "code",
   "execution_count": null,
   "metadata": {},
   "outputs": [],
   "source": []
  },
  {
   "cell_type": "code",
   "execution_count": null,
   "metadata": {},
   "outputs": [],
   "source": []
  },
  {
   "cell_type": "code",
   "execution_count": null,
   "metadata": {},
   "outputs": [],
   "source": []
  },
  {
   "cell_type": "code",
   "execution_count": null,
   "metadata": {},
   "outputs": [],
   "source": []
  },
  {
   "cell_type": "code",
   "execution_count": null,
   "metadata": {},
   "outputs": [],
   "source": []
  }
 ],
 "metadata": {
  "kernelspec": {
   "display_name": "Python 3",
   "language": "python",
   "name": "python3"
  },
  "language_info": {
   "codemirror_mode": {
    "name": "ipython",
    "version": 3
   },
   "file_extension": ".py",
   "mimetype": "text/x-python",
   "name": "python",
   "nbconvert_exporter": "python",
   "pygments_lexer": "ipython3",
   "version": "3.7.3"
  }
 },
 "nbformat": 4,
 "nbformat_minor": 2
}
