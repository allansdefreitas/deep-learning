{
 "cells": [
  {
   "cell_type": "markdown",
   "metadata": {},
   "source": [
    "<h2>TRAIN.CSV</h2>\n",
    "\n",
    "<h4>14993 linhas e 24 colunas</h4>"
   ]
  },
  {
   "cell_type": "markdown",
   "metadata": {},
   "source": [
    "<h3>Data Fields</h3>\n",
    "<p><b>PetID -</b> Unique hash ID of pet profile</p>\n",
    "<p><b>AdoptionSpeed -</b> Categorical speed of adoption. Lower is faster. This is the value to predict. See below section for more info.</p>\n",
    "<hr>\n",
    "\n",
    "<p style=\"color:blue;\"><b>0 </b> Pet was adopted on the same day as it was listed</p> \n",
    "<p style=\"color:blue;\"><b>1 </b> Pet was adopted between 1 and 7 days (1st week) after being listed</p> \n",
    "<p style=\"color:blue;\"><b>2 </b> Pet was adopted between 8 and 30 days (1st month) after being listed</p> \n",
    "<p style=\"color:blue;\"><b>3 </b> Pet was adopted between 31 and 90 days (2nd & 3rd month) after being listed</p> \n",
    "<p style=\"color:blue;\"><b>4 </b> No adoption after 100 days of being listed</p> \n",
    "\n",
    "<p><b>(There are no pets in this dataset that waited between 90 and 100 days)</b></p>\n",
    "    \n",
    "<hr>\n",
    "<p><b>Type -</b> Type of animal (1 = Dog, 2 = Cat)</p>\n",
    "<p><b>Name -</b> Name of pet (Empty if not named)</p>\n",
    "<p><b>Age -</b> Age of pet when listed, in months</p>\n",
    "<p><b>Breed1 -</b> Primary breed of pet (Refer to BreedLabels dictionary)</p>\n",
    "<p><b>Breed2 -</b> Secondary breed of pet, if pet is of mixed breed (Refer to BreedLabels dictionary)</p>\n",
    "<p><b>Gender -</b> Gender of pet (1 = Male, 2 = Female, 3 = Mixed, if profile represents group of pets)</p>\n",
    "<p><b>Color1 -</b> Color 1 of pet (1- Black; 2- Brown; 3-Golden...) (Refer to ColorLabels dictionary)</p>\n",
    "<p><b>Color2 -</b> Color 2 of pet (Refer to ColorLabels dictionary)</p>\n",
    "<p><b>Color3 -</b> Color 3 of pet (Refer to ColorLabels dictionary)</p>\n",
    "<p><b>MaturitySize -</b> Size at maturity (1 = Small, 2 = Medium, 3 = Large, 4 = Extra Large, 0 = Not Specified)</p>\n",
    "<p><b>FurLength -</b> Fur length (1 = Short, 2 = Medium, 3 = Long, 0 = Not Specified)</p>\n",
    "<p><b>Vaccinated -</b> Pet has been vaccinated (1 = Yes, 2 = No, 3 = Not Sure)</p>\n",
    "<p><b>Dewormed -</b> Pet has been dewormed (1 = Yes, 2 = No, 3 = Not Sure)</p>\n",
    "<p><b>Sterilized -</b> Pet has been spayed / neutered (1 = Yes, 2 = No, 3 = Not Sure)</p>\n",
    "<p><b>Health -</b> Health Condition (1 = Healthy, 2 = Minor Injury, 3 = Serious Injury, 0 = Not Specified)</p>\n",
    "<p><b>Quantity -</b> Number of pets represented in profile</p>\n",
    "<p><b>Fee -</b> Adoption fee (0 = Free)</p>\n",
    "<p><b>State -</b> State location in Malaysia (Refer to StateLabels dictionary)</p>\n",
    "<p><b>RescuerID -</b> Unique hash ID of rescuer</p>\n",
    "<p><b>VideoAmt -</b> Total uploaded videos for this pet</p>\n",
    "<p><b>PhotoAmt -</b> Total uploaded photos for this pet</p>\n",
    "<p><b>Description -</b> Profile write-</b>up for this pet. The primary language used is English, with some in Malay or Chinese.</p>"
   ]
  },
  {
   "cell_type": "code",
   "execution_count": 7,
   "metadata": {},
   "outputs": [],
   "source": [
    "import pandas as pd"
   ]
  },
  {
   "cell_type": "code",
   "execution_count": 8,
   "metadata": {},
   "outputs": [],
   "source": [
    "import matplotlib.pyplot as plt"
   ]
  },
  {
   "cell_type": "code",
   "execution_count": 9,
   "metadata": {},
   "outputs": [],
   "source": [
    "import numpy as np"
   ]
  },
  {
   "cell_type": "code",
   "execution_count": 10,
   "metadata": {},
   "outputs": [],
   "source": [
    "pd.set_option(\"display.max_columns\", 25)"
   ]
  },
  {
   "cell_type": "code",
   "execution_count": 11,
   "metadata": {},
   "outputs": [
    {
     "data": {
      "text/html": [
       "<div>\n",
       "<style scoped>\n",
       "    .dataframe tbody tr th:only-of-type {\n",
       "        vertical-align: middle;\n",
       "    }\n",
       "\n",
       "    .dataframe tbody tr th {\n",
       "        vertical-align: top;\n",
       "    }\n",
       "\n",
       "    .dataframe thead th {\n",
       "        text-align: right;\n",
       "    }\n",
       "</style>\n",
       "<table border=\"1\" class=\"dataframe\">\n",
       "  <thead>\n",
       "    <tr style=\"text-align: right;\">\n",
       "      <th></th>\n",
       "      <th>Type</th>\n",
       "      <th>Name</th>\n",
       "      <th>Age</th>\n",
       "      <th>Breed1</th>\n",
       "      <th>Breed2</th>\n",
       "      <th>Gender</th>\n",
       "      <th>Color1</th>\n",
       "      <th>Color2</th>\n",
       "      <th>Color3</th>\n",
       "      <th>MaturitySize</th>\n",
       "      <th>FurLength</th>\n",
       "      <th>Vaccinated</th>\n",
       "      <th>Dewormed</th>\n",
       "      <th>Sterilized</th>\n",
       "      <th>Health</th>\n",
       "      <th>Quantity</th>\n",
       "      <th>Fee</th>\n",
       "      <th>State</th>\n",
       "      <th>RescuerID</th>\n",
       "      <th>VideoAmt</th>\n",
       "      <th>Description</th>\n",
       "      <th>PetID</th>\n",
       "      <th>PhotoAmt</th>\n",
       "      <th>AdoptionSpeed</th>\n",
       "    </tr>\n",
       "  </thead>\n",
       "  <tbody>\n",
       "    <tr>\n",
       "      <th>13747</th>\n",
       "      <td>1</td>\n",
       "      <td>Django</td>\n",
       "      <td>6</td>\n",
       "      <td>307</td>\n",
       "      <td>0</td>\n",
       "      <td>1</td>\n",
       "      <td>3</td>\n",
       "      <td>0</td>\n",
       "      <td>0</td>\n",
       "      <td>2</td>\n",
       "      <td>1</td>\n",
       "      <td>1</td>\n",
       "      <td>1</td>\n",
       "      <td>1</td>\n",
       "      <td>1</td>\n",
       "      <td>1</td>\n",
       "      <td>150</td>\n",
       "      <td>41326</td>\n",
       "      <td>17e2ca4a70c40b1871e83b7e84490d8a</td>\n",
       "      <td>0</td>\n",
       "      <td>Django is very healthy,playful and so handsome...</td>\n",
       "      <td>5d32494f0</td>\n",
       "      <td>2.0</td>\n",
       "      <td>4</td>\n",
       "    </tr>\n",
       "    <tr>\n",
       "      <th>7893</th>\n",
       "      <td>2</td>\n",
       "      <td>Tuxedo Kitten</td>\n",
       "      <td>2</td>\n",
       "      <td>266</td>\n",
       "      <td>0</td>\n",
       "      <td>1</td>\n",
       "      <td>1</td>\n",
       "      <td>7</td>\n",
       "      <td>0</td>\n",
       "      <td>2</td>\n",
       "      <td>1</td>\n",
       "      <td>2</td>\n",
       "      <td>2</td>\n",
       "      <td>2</td>\n",
       "      <td>1</td>\n",
       "      <td>1</td>\n",
       "      <td>0</td>\n",
       "      <td>41326</td>\n",
       "      <td>28f8fcf644fd0dbd7f160576547fe041</td>\n",
       "      <td>0</td>\n",
       "      <td>A cute tuxedo was abandoned in front of my hou...</td>\n",
       "      <td>edd79adb8</td>\n",
       "      <td>4.0</td>\n",
       "      <td>3</td>\n",
       "    </tr>\n",
       "    <tr>\n",
       "      <th>14451</th>\n",
       "      <td>2</td>\n",
       "      <td>NaN</td>\n",
       "      <td>12</td>\n",
       "      <td>285</td>\n",
       "      <td>288</td>\n",
       "      <td>2</td>\n",
       "      <td>2</td>\n",
       "      <td>5</td>\n",
       "      <td>6</td>\n",
       "      <td>3</td>\n",
       "      <td>3</td>\n",
       "      <td>1</td>\n",
       "      <td>1</td>\n",
       "      <td>2</td>\n",
       "      <td>1</td>\n",
       "      <td>1</td>\n",
       "      <td>250</td>\n",
       "      <td>41326</td>\n",
       "      <td>5040b907177d6613165a0acc18a6708c</td>\n",
       "      <td>0</td>\n",
       "      <td>she's very manja once u know her.. wanna sell ...</td>\n",
       "      <td>959064f3c</td>\n",
       "      <td>1.0</td>\n",
       "      <td>2</td>\n",
       "    </tr>\n",
       "  </tbody>\n",
       "</table>\n",
       "</div>"
      ],
      "text/plain": [
       "       Type           Name  Age  Breed1  Breed2  Gender  Color1  Color2  \\\n",
       "13747     1         Django    6     307       0       1       3       0   \n",
       "7893      2  Tuxedo Kitten    2     266       0       1       1       7   \n",
       "14451     2            NaN   12     285     288       2       2       5   \n",
       "\n",
       "       Color3  MaturitySize  FurLength  Vaccinated  Dewormed  Sterilized  \\\n",
       "13747       0             2          1           1         1           1   \n",
       "7893        0             2          1           2         2           2   \n",
       "14451       6             3          3           1         1           2   \n",
       "\n",
       "       Health  Quantity  Fee  State                         RescuerID  \\\n",
       "13747       1         1  150  41326  17e2ca4a70c40b1871e83b7e84490d8a   \n",
       "7893        1         1    0  41326  28f8fcf644fd0dbd7f160576547fe041   \n",
       "14451       1         1  250  41326  5040b907177d6613165a0acc18a6708c   \n",
       "\n",
       "       VideoAmt                                        Description      PetID  \\\n",
       "13747         0  Django is very healthy,playful and so handsome...  5d32494f0   \n",
       "7893          0  A cute tuxedo was abandoned in front of my hou...  edd79adb8   \n",
       "14451         0  she's very manja once u know her.. wanna sell ...  959064f3c   \n",
       "\n",
       "       PhotoAmt  AdoptionSpeed  \n",
       "13747       2.0              4  \n",
       "7893        4.0              3  \n",
       "14451       1.0              2  "
      ]
     },
     "execution_count": 11,
     "metadata": {},
     "output_type": "execute_result"
    }
   ],
   "source": [
    "train = pd.read_csv('datasets/train.csv', delimiter=',')\n",
    "train.sample(3)"
   ]
  },
  {
   "cell_type": "code",
   "execution_count": 12,
   "metadata": {},
   "outputs": [
    {
     "data": {
      "text/plain": [
       "60"
      ]
     },
     "execution_count": 12,
     "metadata": {},
     "output_type": "execute_result"
    }
   ],
   "source": [
    "pd.options.display.max_rows"
   ]
  },
  {
   "cell_type": "code",
   "execution_count": 13,
   "metadata": {},
   "outputs": [
    {
     "data": {
      "text/plain": [
       "14993"
      ]
     },
     "execution_count": 13,
     "metadata": {},
     "output_type": "execute_result"
    }
   ],
   "source": [
    "total_pets = train.shape[0]\n",
    "total_pets"
   ]
  },
  {
   "cell_type": "code",
   "execution_count": 14,
   "metadata": {},
   "outputs": [],
   "source": [
    "#plots, mean, std, var e norm"
   ]
  },
  {
   "cell_type": "code",
   "execution_count": 15,
   "metadata": {},
   "outputs": [
    {
     "name": "stdout",
     "output_type": "stream",
     "text": [
      "pets adotados (primeiro dia):  410\n",
      "% 2.7346094844260658\n"
     ]
    }
   ],
   "source": [
    "# VELOCIDADE DE ADOÇÃO -----------------------------------------------------------------------------------------------------\n",
    "#velocidade de adoção (0): no primeiro DIA (0)\n",
    "qtd_adoption_speed_0 = train.AdoptionSpeed[train.AdoptionSpeed == 0].count()\n",
    "percent_adoption_speed_0 = (qtd_adoption_speed_0 / total_pets) * 100\n",
    "\n",
    "print('pets adotados (primeiro dia): ',qtd_adoption_speed_0)\n",
    "print('%', percent_adoption_speed_0)"
   ]
  },
  {
   "cell_type": "code",
   "execution_count": 16,
   "metadata": {},
   "outputs": [
    {
     "data": {
      "text/html": [
       "<div>\n",
       "<style scoped>\n",
       "    .dataframe tbody tr th:only-of-type {\n",
       "        vertical-align: middle;\n",
       "    }\n",
       "\n",
       "    .dataframe tbody tr th {\n",
       "        vertical-align: top;\n",
       "    }\n",
       "\n",
       "    .dataframe thead th {\n",
       "        text-align: right;\n",
       "    }\n",
       "</style>\n",
       "<table border=\"1\" class=\"dataframe\">\n",
       "  <thead>\n",
       "    <tr style=\"text-align: right;\">\n",
       "      <th></th>\n",
       "      <th>AdoptionSpeed</th>\n",
       "    </tr>\n",
       "    <tr>\n",
       "      <th>Type</th>\n",
       "      <th></th>\n",
       "    </tr>\n",
       "  </thead>\n",
       "  <tbody>\n",
       "    <tr>\n",
       "      <th>1</th>\n",
       "      <td>170</td>\n",
       "    </tr>\n",
       "    <tr>\n",
       "      <th>2</th>\n",
       "      <td>240</td>\n",
       "    </tr>\n",
       "  </tbody>\n",
       "</table>\n",
       "</div>"
      ],
      "text/plain": [
       "      AdoptionSpeed\n",
       "Type               \n",
       "1               170\n",
       "2               240"
      ]
     },
     "execution_count": 16,
     "metadata": {},
     "output_type": "execute_result"
    }
   ],
   "source": [
    "# Adotados no dia 0 , cães e gatos:\n",
    "train[train.AdoptionSpeed == 0].groupby(['Type']).count()[['AdoptionSpeed']]\n",
    "#train.groupby('AdoptionSpeed').count()[['Type']]"
   ]
  },
  {
   "cell_type": "code",
   "execution_count": 17,
   "metadata": {},
   "outputs": [
    {
     "data": {
      "text/html": [
       "<div>\n",
       "<style scoped>\n",
       "    .dataframe tbody tr th:only-of-type {\n",
       "        vertical-align: middle;\n",
       "    }\n",
       "\n",
       "    .dataframe tbody tr th {\n",
       "        vertical-align: top;\n",
       "    }\n",
       "\n",
       "    .dataframe thead th {\n",
       "        text-align: right;\n",
       "    }\n",
       "</style>\n",
       "<table border=\"1\" class=\"dataframe\">\n",
       "  <thead>\n",
       "    <tr style=\"text-align: right;\">\n",
       "      <th></th>\n",
       "      <th>AdoptionSpeed</th>\n",
       "    </tr>\n",
       "    <tr>\n",
       "      <th>Age</th>\n",
       "      <th></th>\n",
       "    </tr>\n",
       "  </thead>\n",
       "  <tbody>\n",
       "    <tr>\n",
       "      <th>0</th>\n",
       "      <td>10</td>\n",
       "    </tr>\n",
       "    <tr>\n",
       "      <th>1</th>\n",
       "      <td>54</td>\n",
       "    </tr>\n",
       "    <tr>\n",
       "      <th>2</th>\n",
       "      <td>115</td>\n",
       "    </tr>\n",
       "    <tr>\n",
       "      <th>3</th>\n",
       "      <td>44</td>\n",
       "    </tr>\n",
       "    <tr>\n",
       "      <th>4</th>\n",
       "      <td>24</td>\n",
       "    </tr>\n",
       "    <tr>\n",
       "      <th>5</th>\n",
       "      <td>7</td>\n",
       "    </tr>\n",
       "    <tr>\n",
       "      <th>6</th>\n",
       "      <td>20</td>\n",
       "    </tr>\n",
       "    <tr>\n",
       "      <th>7</th>\n",
       "      <td>7</td>\n",
       "    </tr>\n",
       "    <tr>\n",
       "      <th>8</th>\n",
       "      <td>4</td>\n",
       "    </tr>\n",
       "    <tr>\n",
       "      <th>9</th>\n",
       "      <td>5</td>\n",
       "    </tr>\n",
       "    <tr>\n",
       "      <th>10</th>\n",
       "      <td>4</td>\n",
       "    </tr>\n",
       "    <tr>\n",
       "      <th>11</th>\n",
       "      <td>3</td>\n",
       "    </tr>\n",
       "    <tr>\n",
       "      <th>12</th>\n",
       "      <td>33</td>\n",
       "    </tr>\n",
       "    <tr>\n",
       "      <th>13</th>\n",
       "      <td>2</td>\n",
       "    </tr>\n",
       "    <tr>\n",
       "      <th>14</th>\n",
       "      <td>4</td>\n",
       "    </tr>\n",
       "    <tr>\n",
       "      <th>15</th>\n",
       "      <td>2</td>\n",
       "    </tr>\n",
       "    <tr>\n",
       "      <th>16</th>\n",
       "      <td>1</td>\n",
       "    </tr>\n",
       "    <tr>\n",
       "      <th>17</th>\n",
       "      <td>3</td>\n",
       "    </tr>\n",
       "    <tr>\n",
       "      <th>18</th>\n",
       "      <td>8</td>\n",
       "    </tr>\n",
       "    <tr>\n",
       "      <th>19</th>\n",
       "      <td>1</td>\n",
       "    </tr>\n",
       "    <tr>\n",
       "      <th>21</th>\n",
       "      <td>1</td>\n",
       "    </tr>\n",
       "    <tr>\n",
       "      <th>22</th>\n",
       "      <td>1</td>\n",
       "    </tr>\n",
       "    <tr>\n",
       "      <th>23</th>\n",
       "      <td>1</td>\n",
       "    </tr>\n",
       "    <tr>\n",
       "      <th>24</th>\n",
       "      <td>16</td>\n",
       "    </tr>\n",
       "    <tr>\n",
       "      <th>26</th>\n",
       "      <td>1</td>\n",
       "    </tr>\n",
       "    <tr>\n",
       "      <th>27</th>\n",
       "      <td>1</td>\n",
       "    </tr>\n",
       "    <tr>\n",
       "      <th>28</th>\n",
       "      <td>2</td>\n",
       "    </tr>\n",
       "    <tr>\n",
       "      <th>29</th>\n",
       "      <td>1</td>\n",
       "    </tr>\n",
       "    <tr>\n",
       "      <th>30</th>\n",
       "      <td>2</td>\n",
       "    </tr>\n",
       "    <tr>\n",
       "      <th>32</th>\n",
       "      <td>1</td>\n",
       "    </tr>\n",
       "    <tr>\n",
       "      <th>36</th>\n",
       "      <td>8</td>\n",
       "    </tr>\n",
       "    <tr>\n",
       "      <th>44</th>\n",
       "      <td>1</td>\n",
       "    </tr>\n",
       "    <tr>\n",
       "      <th>48</th>\n",
       "      <td>2</td>\n",
       "    </tr>\n",
       "    <tr>\n",
       "      <th>53</th>\n",
       "      <td>1</td>\n",
       "    </tr>\n",
       "    <tr>\n",
       "      <th>54</th>\n",
       "      <td>2</td>\n",
       "    </tr>\n",
       "    <tr>\n",
       "      <th>60</th>\n",
       "      <td>6</td>\n",
       "    </tr>\n",
       "    <tr>\n",
       "      <th>72</th>\n",
       "      <td>4</td>\n",
       "    </tr>\n",
       "    <tr>\n",
       "      <th>78</th>\n",
       "      <td>1</td>\n",
       "    </tr>\n",
       "    <tr>\n",
       "      <th>82</th>\n",
       "      <td>1</td>\n",
       "    </tr>\n",
       "    <tr>\n",
       "      <th>84</th>\n",
       "      <td>1</td>\n",
       "    </tr>\n",
       "    <tr>\n",
       "      <th>96</th>\n",
       "      <td>3</td>\n",
       "    </tr>\n",
       "    <tr>\n",
       "      <th>112</th>\n",
       "      <td>1</td>\n",
       "    </tr>\n",
       "    <tr>\n",
       "      <th>120</th>\n",
       "      <td>1</td>\n",
       "    </tr>\n",
       "  </tbody>\n",
       "</table>\n",
       "</div>"
      ],
      "text/plain": [
       "     AdoptionSpeed\n",
       "Age               \n",
       "0               10\n",
       "1               54\n",
       "2              115\n",
       "3               44\n",
       "4               24\n",
       "5                7\n",
       "6               20\n",
       "7                7\n",
       "8                4\n",
       "9                5\n",
       "10               4\n",
       "11               3\n",
       "12              33\n",
       "13               2\n",
       "14               4\n",
       "15               2\n",
       "16               1\n",
       "17               3\n",
       "18               8\n",
       "19               1\n",
       "21               1\n",
       "22               1\n",
       "23               1\n",
       "24              16\n",
       "26               1\n",
       "27               1\n",
       "28               2\n",
       "29               1\n",
       "30               2\n",
       "32               1\n",
       "36               8\n",
       "44               1\n",
       "48               2\n",
       "53               1\n",
       "54               2\n",
       "60               6\n",
       "72               4\n",
       "78               1\n",
       "82               1\n",
       "84               1\n",
       "96               3\n",
       "112              1\n",
       "120              1"
      ]
     },
     "execution_count": 17,
     "metadata": {},
     "output_type": "execute_result"
    }
   ],
   "source": [
    "#Análise: até 12 meses a probabiidade de ser adotado é maior, principalmente até o [e especilamente no] segundo mês\n",
    "train[train.AdoptionSpeed == 0].groupby(['Age']).count()[['AdoptionSpeed']]"
   ]
  },
  {
   "cell_type": "code",
   "execution_count": 18,
   "metadata": {},
   "outputs": [
    {
     "data": {
      "text/html": [
       "<div>\n",
       "<style scoped>\n",
       "    .dataframe tbody tr th:only-of-type {\n",
       "        vertical-align: middle;\n",
       "    }\n",
       "\n",
       "    .dataframe tbody tr th {\n",
       "        vertical-align: top;\n",
       "    }\n",
       "\n",
       "    .dataframe thead th {\n",
       "        text-align: right;\n",
       "    }\n",
       "</style>\n",
       "<table border=\"1\" class=\"dataframe\">\n",
       "  <thead>\n",
       "    <tr style=\"text-align: right;\">\n",
       "      <th></th>\n",
       "      <th>AdoptionSpeed</th>\n",
       "    </tr>\n",
       "    <tr>\n",
       "      <th>Color1</th>\n",
       "      <th></th>\n",
       "    </tr>\n",
       "  </thead>\n",
       "  <tbody>\n",
       "    <tr>\n",
       "      <th>1</th>\n",
       "      <td>173</td>\n",
       "    </tr>\n",
       "    <tr>\n",
       "      <th>2</th>\n",
       "      <td>119</td>\n",
       "    </tr>\n",
       "    <tr>\n",
       "      <th>3</th>\n",
       "      <td>29</td>\n",
       "    </tr>\n",
       "    <tr>\n",
       "      <th>4</th>\n",
       "      <td>13</td>\n",
       "    </tr>\n",
       "    <tr>\n",
       "      <th>5</th>\n",
       "      <td>34</td>\n",
       "    </tr>\n",
       "    <tr>\n",
       "      <th>6</th>\n",
       "      <td>29</td>\n",
       "    </tr>\n",
       "    <tr>\n",
       "      <th>7</th>\n",
       "      <td>13</td>\n",
       "    </tr>\n",
       "  </tbody>\n",
       "</table>\n",
       "</div>"
      ],
      "text/plain": [
       "        AdoptionSpeed\n",
       "Color1               \n",
       "1                 173\n",
       "2                 119\n",
       "3                  29\n",
       "4                  13\n",
       "5                  34\n",
       "6                  29\n",
       "7                  13"
      ]
     },
     "execution_count": 18,
     "metadata": {},
     "output_type": "execute_result"
    }
   ],
   "source": [
    "#Cores1 de valor 1 e 2 (black e brown) são mais adotados no dia 0\n",
    "train[train.AdoptionSpeed == 0].groupby(['Color1']).count()[['AdoptionSpeed']]"
   ]
  },
  {
   "cell_type": "code",
   "execution_count": 19,
   "metadata": {},
   "outputs": [
    {
     "data": {
      "text/html": [
       "<div>\n",
       "<style scoped>\n",
       "    .dataframe tbody tr th:only-of-type {\n",
       "        vertical-align: middle;\n",
       "    }\n",
       "\n",
       "    .dataframe tbody tr th {\n",
       "        vertical-align: top;\n",
       "    }\n",
       "\n",
       "    .dataframe thead th {\n",
       "        text-align: right;\n",
       "    }\n",
       "</style>\n",
       "<table border=\"1\" class=\"dataframe\">\n",
       "  <thead>\n",
       "    <tr style=\"text-align: right;\">\n",
       "      <th></th>\n",
       "      <th>AdoptionSpeed</th>\n",
       "    </tr>\n",
       "    <tr>\n",
       "      <th>Color1</th>\n",
       "      <th></th>\n",
       "    </tr>\n",
       "  </thead>\n",
       "  <tbody>\n",
       "    <tr>\n",
       "      <th>1</th>\n",
       "      <td>1498</td>\n",
       "    </tr>\n",
       "    <tr>\n",
       "      <th>2</th>\n",
       "      <td>689</td>\n",
       "    </tr>\n",
       "    <tr>\n",
       "      <th>3</th>\n",
       "      <td>211</td>\n",
       "    </tr>\n",
       "    <tr>\n",
       "      <th>4</th>\n",
       "      <td>140</td>\n",
       "    </tr>\n",
       "    <tr>\n",
       "      <th>5</th>\n",
       "      <td>220</td>\n",
       "    </tr>\n",
       "    <tr>\n",
       "      <th>6</th>\n",
       "      <td>156</td>\n",
       "    </tr>\n",
       "    <tr>\n",
       "      <th>7</th>\n",
       "      <td>176</td>\n",
       "    </tr>\n",
       "  </tbody>\n",
       "</table>\n",
       "</div>"
      ],
      "text/plain": [
       "        AdoptionSpeed\n",
       "Color1               \n",
       "1                1498\n",
       "2                 689\n",
       "3                 211\n",
       "4                 140\n",
       "5                 220\n",
       "6                 156\n",
       "7                 176"
      ]
     },
     "execution_count": 19,
     "metadata": {},
     "output_type": "execute_result"
    }
   ],
   "source": [
    "#Cores1 de valor 1 e 2 (black e brown) são mais adotados na primeira semana (1-7 days)\n",
    "train[train.AdoptionSpeed == 1].groupby(['Color1']).count()[['AdoptionSpeed']]"
   ]
  },
  {
   "cell_type": "code",
   "execution_count": 20,
   "metadata": {},
   "outputs": [
    {
     "data": {
      "text/html": [
       "<div>\n",
       "<style scoped>\n",
       "    .dataframe tbody tr th:only-of-type {\n",
       "        vertical-align: middle;\n",
       "    }\n",
       "\n",
       "    .dataframe tbody tr th {\n",
       "        vertical-align: top;\n",
       "    }\n",
       "\n",
       "    .dataframe thead th {\n",
       "        text-align: right;\n",
       "    }\n",
       "</style>\n",
       "<table border=\"1\" class=\"dataframe\">\n",
       "  <thead>\n",
       "    <tr style=\"text-align: right;\">\n",
       "      <th></th>\n",
       "      <th>AdoptionSpeed</th>\n",
       "    </tr>\n",
       "    <tr>\n",
       "      <th>Color1</th>\n",
       "      <th></th>\n",
       "    </tr>\n",
       "  </thead>\n",
       "  <tbody>\n",
       "    <tr>\n",
       "      <th>1</th>\n",
       "      <td>2036</td>\n",
       "    </tr>\n",
       "    <tr>\n",
       "      <th>2</th>\n",
       "      <td>956</td>\n",
       "    </tr>\n",
       "    <tr>\n",
       "      <th>3</th>\n",
       "      <td>285</td>\n",
       "    </tr>\n",
       "    <tr>\n",
       "      <th>4</th>\n",
       "      <td>145</td>\n",
       "    </tr>\n",
       "    <tr>\n",
       "      <th>5</th>\n",
       "      <td>238</td>\n",
       "    </tr>\n",
       "    <tr>\n",
       "      <th>6</th>\n",
       "      <td>195</td>\n",
       "    </tr>\n",
       "    <tr>\n",
       "      <th>7</th>\n",
       "      <td>182</td>\n",
       "    </tr>\n",
       "  </tbody>\n",
       "</table>\n",
       "</div>"
      ],
      "text/plain": [
       "        AdoptionSpeed\n",
       "Color1               \n",
       "1                2036\n",
       "2                 956\n",
       "3                 285\n",
       "4                 145\n",
       "5                 238\n",
       "6                 195\n",
       "7                 182"
      ]
     },
     "execution_count": 20,
     "metadata": {},
     "output_type": "execute_result"
    }
   ],
   "source": [
    "#Cores1 de valor 1 e 2 (black e brown) são mais adotados entre 8-30 days\n",
    "train[train.AdoptionSpeed == 2].groupby(['Color1']).count()[['AdoptionSpeed']]"
   ]
  },
  {
   "cell_type": "code",
   "execution_count": 21,
   "metadata": {},
   "outputs": [
    {
     "data": {
      "text/html": [
       "<div>\n",
       "<style scoped>\n",
       "    .dataframe tbody tr th:only-of-type {\n",
       "        vertical-align: middle;\n",
       "    }\n",
       "\n",
       "    .dataframe tbody tr th {\n",
       "        vertical-align: top;\n",
       "    }\n",
       "\n",
       "    .dataframe thead th {\n",
       "        text-align: right;\n",
       "    }\n",
       "</style>\n",
       "<table border=\"1\" class=\"dataframe\">\n",
       "  <thead>\n",
       "    <tr style=\"text-align: right;\">\n",
       "      <th></th>\n",
       "      <th>AdoptionSpeed</th>\n",
       "    </tr>\n",
       "    <tr>\n",
       "      <th>Color1</th>\n",
       "      <th></th>\n",
       "    </tr>\n",
       "  </thead>\n",
       "  <tbody>\n",
       "    <tr>\n",
       "      <th>1</th>\n",
       "      <td>1633</td>\n",
       "    </tr>\n",
       "    <tr>\n",
       "      <th>2</th>\n",
       "      <td>854</td>\n",
       "    </tr>\n",
       "    <tr>\n",
       "      <th>3</th>\n",
       "      <td>184</td>\n",
       "    </tr>\n",
       "    <tr>\n",
       "      <th>4</th>\n",
       "      <td>145</td>\n",
       "    </tr>\n",
       "    <tr>\n",
       "      <th>5</th>\n",
       "      <td>185</td>\n",
       "    </tr>\n",
       "    <tr>\n",
       "      <th>6</th>\n",
       "      <td>133</td>\n",
       "    </tr>\n",
       "    <tr>\n",
       "      <th>7</th>\n",
       "      <td>125</td>\n",
       "    </tr>\n",
       "  </tbody>\n",
       "</table>\n",
       "</div>"
      ],
      "text/plain": [
       "        AdoptionSpeed\n",
       "Color1               \n",
       "1                1633\n",
       "2                 854\n",
       "3                 184\n",
       "4                 145\n",
       "5                 185\n",
       "6                 133\n",
       "7                 125"
      ]
     },
     "execution_count": 21,
     "metadata": {},
     "output_type": "execute_result"
    }
   ],
   "source": [
    "#Cores1 de valor 1 e 2 (black e brown) são mais adotados entre 31-90 days\n",
    "train[train.AdoptionSpeed == 3].groupby(['Color1']).count()[['AdoptionSpeed']]"
   ]
  },
  {
   "cell_type": "code",
   "execution_count": null,
   "metadata": {},
   "outputs": [],
   "source": []
  },
  {
   "cell_type": "code",
   "execution_count": 22,
   "metadata": {},
   "outputs": [
    {
     "name": "stdout",
     "output_type": "stream",
     "text": [
      "pets adotados:  3090\n",
      "% 20.609617821650104\n"
     ]
    }
   ],
   "source": [
    "#velocidade de adoção (1): no primeira SEMANA (1 - 7)\n",
    "qtd_adoption_speed_1 = train.AdoptionSpeed[train.AdoptionSpeed == 1].count()\n",
    "percent_adoption_speed_1 = (qtd_adoption_speed_1 / total_pets) * 100\n",
    "print('pets adotados: ',qtd_adoption_speed_1)\n",
    "print('%', percent_adoption_speed_1)"
   ]
  },
  {
   "cell_type": "code",
   "execution_count": 23,
   "metadata": {},
   "outputs": [
    {
     "name": "stdout",
     "output_type": "stream",
     "text": [
      "pets adotados:  4037\n",
      "% 26.92589875275128\n"
     ]
    }
   ],
   "source": [
    "#velocidade de adoção(2):  8 - 30\n",
    "qtd_adoption_speed_2 = train.AdoptionSpeed[train.AdoptionSpeed == 2].count()\n",
    "percent_adoption_speed_2 = (qtd_adoption_speed_2 / total_pets) * 100\n",
    "print('pets adotados: ',qtd_adoption_speed_2)\n",
    "print('%', percent_adoption_speed_2)"
   ]
  },
  {
   "cell_type": "code",
   "execution_count": 24,
   "metadata": {},
   "outputs": [
    {
     "name": "stdout",
     "output_type": "stream",
     "text": [
      "pets adotados:  3259\n",
      "% 21.736810511572067\n"
     ]
    }
   ],
   "source": [
    "#velocidade de adoção(3):  31 - 90\n",
    "qtd_adoption_speed_3 = train.AdoptionSpeed[train.AdoptionSpeed == 3].count()\n",
    "percent_adoption_speed_3 = (qtd_adoption_speed_3 / total_pets) * 100\n",
    "print('pets adotados: ',qtd_adoption_speed_3)\n",
    "print('%', percent_adoption_speed_3)"
   ]
  },
  {
   "cell_type": "code",
   "execution_count": 25,
   "metadata": {},
   "outputs": [
    {
     "name": "stdout",
     "output_type": "stream",
     "text": [
      "pets adotados:  4197\n",
      "% 27.99306342960048\n"
     ]
    }
   ],
   "source": [
    "#velocidade de adoção(4):  + 100\n",
    "qtd_adoption_speed_4 = train.AdoptionSpeed[train.AdoptionSpeed == 4].count()\n",
    "percent_adoption_speed_4 = (qtd_adoption_speed_4 / total_pets) * 100\n",
    "print('pets adotados: ',qtd_adoption_speed_4)\n",
    "print('%', percent_adoption_speed_4)"
   ]
  },
  {
   "cell_type": "code",
   "execution_count": 26,
   "metadata": {},
   "outputs": [
    {
     "data": {
      "image/png": "[encoded data removed]",
      "text/plain": [
       "<Figure size 432x288 with 1 Axes>"
      ]
     },
     "metadata": {},
     "output_type": "display_data"
    }
   ],
   "source": [
    "#GRÁFICO ADOPTION SPEED \n",
    "\n",
    "labels_adoption_speed = '0 (dia 1)', '1 - 7 dias','8 - 30 dias', '31 - 90 dias', '100+ dias (e não adotados ainda)' \n",
    "sizes_adoption_speed = [qtd_adoption_speed_0, qtd_adoption_speed_1, qtd_adoption_speed_2, qtd_adoption_speed_3, qtd_adoption_speed_4]\n",
    "explode_adoption_speed = (0, 0, 0, 0, 0.1) \n",
    "\n",
    "fig_adoption_speed, ax_adoption_speed = plt.subplots()\n",
    "ax_adoption_speed.pie(sizes_adoption_speed, explode=explode_adoption_speed, labels=labels_adoption_speed, autopct='%1.1f%%',\n",
    "        shadow=True, startangle=90)\n",
    "ax_adoption_speed.axis('equal')  # Equal aspect ratio ensures that pie is drawn as a circle.\n",
    "\n",
    "plt.show()"
   ]
  },
  {
   "cell_type": "code",
   "execution_count": 27,
   "metadata": {},
   "outputs": [],
   "source": [
    "# QUANTIDADE DE CÃES E GATOS -------------------------------------------------------------------------------------------"
   ]
  },
  {
   "cell_type": "code",
   "execution_count": 28,
   "metadata": {},
   "outputs": [
    {
     "data": {
      "text/plain": [
       "8132"
      ]
     },
     "execution_count": 28,
     "metadata": {},
     "output_type": "execute_result"
    }
   ],
   "source": [
    "#cães\n",
    "qtd_caes = train.Type[train.Type == 1].count()\n",
    "qtd_caes"
   ]
  },
  {
   "cell_type": "code",
   "execution_count": 29,
   "metadata": {},
   "outputs": [
    {
     "data": {
      "text/plain": [
       "6861"
      ]
     },
     "execution_count": 29,
     "metadata": {},
     "output_type": "execute_result"
    }
   ],
   "source": [
    "#gatos\n",
    "qtd_gatos = train.Type[train.Type == 2].count()\n",
    "qtd_gatos"
   ]
  },
  {
   "cell_type": "code",
   "execution_count": null,
   "metadata": {},
   "outputs": [
    {
     "data": {
      "image/png": "[encoded data removed]",
      "text/plain": [
       "<Figure size 432x288 with 1 Axes>"
      ]
     },
     "metadata": {},
     "output_type": "display_data"
    }
   ],
   "source": [
    "#GRÁFICO: CÃES E GATOS\n",
    "# Pie chart, where the slices will be ordered and plotted counter-clockwise:\n",
    "labels2 = 'Cães', 'Gatos'\n",
    "sizes2 = [qtd_caes, qtd_gatos]\n",
    "explode2 = (0, 0.1)  # only \"explode\" the 2nd slice (i.e. 'Hogs')\n",
    "\n",
    "fig2, ax2 = plt.subplots()\n",
    "ax2.pie(sizes2, explode=explode2, labels=labels2, autopct='%1.1f%%',\n",
    "        shadow=True, startangle=90)\n",
    "ax2.axis('equal')  # Equal aspect ratio ensures that pie is drawn as a circle.\n",
    "\n",
    "plt.show()\n",
    "\n",
    "\n"
   ]
  },
  {
   "cell_type": "code",
   "execution_count": null,
   "metadata": {},
   "outputs": [
    {
     "data": {
      "text/plain": [
       "10.452077636230241"
      ]
     },
     "execution_count": 31,
     "metadata": {},
     "output_type": "execute_result"
    }
   ],
   "source": [
    "# IDADE --------------------------------------------------------------------------------------------------------\n",
    "#Média de idade (meses)\n",
    "media_idade_geral = train.Age.mean()\n",
    "media_idade_geral"
   ]
  },
  {
   "cell_type": "code",
   "execution_count": null,
   "metadata": {},
   "outputs": [
    {
     "data": {
      "text/plain": [
       "12.906173143138219"
      ]
     },
     "execution_count": 32,
     "metadata": {},
     "output_type": "execute_result"
    }
   ],
   "source": [
    "#Média de idade dos cães (meses)\n",
    "\n",
    "media_idade_caes = train.Age[train.Type == 1].mean()\n",
    "media_idade_caes"
   ]
  },
  {
   "cell_type": "code",
   "execution_count": null,
   "metadata": {},
   "outputs": [
    {
     "data": {
      "text/plain": [
       "7.543361026089491"
      ]
     },
     "execution_count": 33,
     "metadata": {},
     "output_type": "execute_result"
    }
   ],
   "source": [
    "#Média de idade dos gatos (meses)\n",
    "media_idade_gatos = train.Age[train.Type == 2].mean()\n",
    "media_idade_gatos"
   ]
  },
  {
   "cell_type": "code",
   "execution_count": null,
   "metadata": {},
   "outputs": [
    {
     "data": {
      "text/plain": [
       "21.25"
      ]
     },
     "execution_count": 34,
     "metadata": {},
     "output_type": "execute_result"
    }
   ],
   "source": [
    "#mais velho (anos)\n",
    "pet_mais_velho = train.Age.max() / 12\n",
    "pet_mais_velho"
   ]
  },
  {
   "cell_type": "code",
   "execution_count": null,
   "metadata": {},
   "outputs": [
    {
     "data": {
      "text/plain": [
       "0"
      ]
     },
     "execution_count": 35,
     "metadata": {},
     "output_type": "execute_result"
    }
   ],
   "source": [
    "#mais novo (meses)\n",
    "pet_mais_novo = train.Age.min() \n",
    "pet_mais_novo"
   ]
  },
  {
   "cell_type": "code",
   "execution_count": null,
   "metadata": {},
   "outputs": [],
   "source": []
  },
  {
   "cell_type": "code",
   "execution_count": null,
   "metadata": {},
   "outputs": [
    {
     "data": {
      "text/plain": [
       "Text(0.5, 0.98, 'Idades')"
      ]
     },
     "execution_count": 36,
     "metadata": {},
     "output_type": "execute_result"
    }
   ],
   "source": [
    "#GRÁFICO DE IDADES\n",
    "data = {'apples': 10, 'oranges': 15, 'lemons': 5, 'limes': 20}\n",
    "\n",
    "names_idades_bar = list(train.Age)\n",
    "values_idades_bar = list(train.Age)\n",
    "\n",
    "fig_idades_bar, axs_idades_bar = plt.subplots(1, 3, figsize=(9, 3), sharey=True)\n",
    "axs_idades_bar[0].bar(names_idades_bar, values_idades_bar)\n",
    "\n",
    "fig_idades_bar.suptitle('Idades')"
   ]
  },
  {
   "cell_type": "code",
   "execution_count": null,
   "metadata": {},
   "outputs": [],
   "source": [
    "#GENDER ------------------------------------------------------------------------------\n",
    "\n",
    "#macho\n",
    "total_macho = train.Gender[train.Gender ==1].count()\n",
    "total_macho"
   ]
  },
  {
   "cell_type": "code",
   "execution_count": null,
   "metadata": {},
   "outputs": [],
   "source": [
    "#femea\n",
    "total_femea = train.Gender[train.Gender ==2].count()\n",
    "total_femea"
   ]
  },
  {
   "cell_type": "code",
   "execution_count": null,
   "metadata": {},
   "outputs": [],
   "source": [
    "#GRÁFICO MACHO E FEMEA\n",
    "labels_gender = 'Macho', 'Fêmea'\n",
    "sizes_gender = [total_macho, total_femea]\n",
    "explode_gender = (0, 0.1)  # only \"explode\" the 2nd slice (i.e. 'Hogs')\n",
    "\n",
    "fig_gender, ax_gender = plt.subplots()\n",
    "ax_gender.pie(sizes_gender, explode=explode_gender, labels=labels_gender, autopct='%1.1f%%',\n",
    "        shadow=True, startangle=90)\n",
    "ax_gender.axis('equal')  # Equal aspect ratio ensures that pie is drawn as a circle.\n",
    "\n",
    "plt.show()\n",
    "\n",
    "\n"
   ]
  },
  {
   "cell_type": "code",
   "execution_count": null,
   "metadata": {},
   "outputs": [],
   "source": [
    "# FEE (TAXA DE ADOÇAÕ)--------------------------------------------------------------------------------------------------------\n",
    "#grátis\n",
    "qtd_fee_gratis = train.Fee[train.Fee == 0].count()\n",
    "percent_fee_gratis = (qtd_fee_gratis / total_pets) * 100\n",
    "print('total taxa grátis:',qtd_fee_gratis)\n",
    "print('%', percent_fee_gratis)\n",
    "\n"
   ]
  },
  {
   "cell_type": "code",
   "execution_count": null,
   "metadata": {},
   "outputs": [],
   "source": [
    "#pago\n",
    "qtd_fee_pago = train.Fee[train.Fee > 0].count()\n",
    "percent_fee_pago = (qtd_fee_pago / total_pets) * 100\n",
    "print('total taxa pago:',qtd_fee_pago)\n",
    "print('%', percent_fee_pago)\n"
   ]
  },
  {
   "cell_type": "code",
   "execution_count": null,
   "metadata": {},
   "outputs": [],
   "source": [
    "#GRÁFICO: PAGO E GRÁTIS\n",
    "# Pie chart, where the slices will be ordered and plotted counter-clockwise:\n",
    "labels = 'Grátis', 'Pago'\n",
    "sizes = [qtd_fee_gratis, qtd_fee_pago]\n",
    "explode = (0, 0.1)  # only \"explode\" the 2nd slice (i.e. 'Hogs')\n",
    "\n",
    "fig1, ax1 = plt.subplots()\n",
    "ax1.pie(sizes, explode=explode, labels=labels, autopct='%1.1f%%',\n",
    "        shadow=True, startangle=90)\n",
    "ax1.axis('equal')  # Equal aspect ratio ensures that pie is drawn as a circle.\n",
    "\n",
    "plt.show()\n"
   ]
  },
  {
   "cell_type": "code",
   "execution_count": null,
   "metadata": {},
   "outputs": [],
   "source": []
  },
  {
   "cell_type": "code",
   "execution_count": null,
   "metadata": {},
   "outputs": [],
   "source": []
  }
 ],
 "metadata": {
  "kernelspec": {
   "display_name": "Python 3",
   "language": "python",
   "name": "python3"
  },
  "language_info": {
   "codemirror_mode": {
    "name": "ipython",
    "version": 3
   },
   "file_extension": ".py",
   "mimetype": "text/x-python",
   "name": "python",
   "nbconvert_exporter": "python",
   "pygments_lexer": "ipython3",
   "version": "3.7.3"
  }
 },
 "nbformat": 4,
 "nbformat_minor": 2
}
