{
 "cells": [
  {
   "cell_type": "code",
   "execution_count": 1,
   "metadata": {},
   "outputs": [],
   "source": [
    "from gensim.models import Word2Vec"
   ]
  },
  {
   "cell_type": "code",
   "execution_count": 9,
   "metadata": {},
   "outputs": [],
   "source": [
    "sentences = [['this', 'is', 'the', 'good', 'machine', 'learning', 'book'],\n",
    "            ['this', 'is',  'another', 'book'],\n",
    "            ['one', 'more', 'book'],\n",
    "            ['this', 'is', 'the', 'new', 'post'],\n",
    "            ['this', 'is', 'about', 'machine', 'learning', 'post'], \n",
    "            ['orange', 'juice', 'is', 'the', 'liquid', 'extract', 'of', 'the', 'fruit'],\n",
    "            ['orange', 'juice', 'comes', 'in', 'several', 'different', 'varieties'],\n",
    "            ['and', 'this', 'is', 'the', 'last', 'post']]"
   ]
  },
  {
   "cell_type": "code",
   "execution_count": 25,
   "metadata": {},
   "outputs": [
    {
     "name": "stdout",
     "output_type": "stream",
     "text": [
      "words in vocab:  26\n",
      "0.14279845\n"
     ]
    },
    {
     "name": "stderr",
     "output_type": "stream",
     "text": [
      "C:\\Users\\Allan Santos\\.conda\\envs\\AM\\lib\\site-packages\\ipykernel_launcher.py:6: DeprecationWarning: Call to deprecated `similarity` (Method will be removed in 4.0.0, use self.wv.similarity() instead).\n",
      "  \n"
     ]
    }
   ],
   "source": [
    "#embbeding size = 100\n",
    "model = Word2Vec(sentences, min_count=1, size=100)\n",
    "vocab = model.wv.vocab.keys()\n",
    "#vocab = model.vocab.keys()\n",
    "wordsInVocab = len(vocab)\n",
    "print('words in vocab: ', wordsInVocab)\n",
    "print (model.similarity('post', 'book')) "
   ]
  },
  {
   "cell_type": "code",
   "execution_count": 46,
   "metadata": {},
   "outputs": [
    {
     "name": "stderr",
     "output_type": "stream",
     "text": [
      "C:\\Users\\Allan Santos\\.conda\\envs\\AM\\lib\\site-packages\\ipykernel_launcher.py:1: DeprecationWarning: Call to deprecated `__getitem__` (Method will be removed in 4.0.0, use self.wv.__getitem__() instead).\n",
      "  \"\"\"Entry point for launching an IPython kernel.\n"
     ]
    },
    {
     "data": {
      "text/plain": [
       "(100,)"
      ]
     },
     "execution_count": 46,
     "metadata": {},
     "output_type": "execute_result"
    }
   ],
   "source": [
    "model['book'].shape"
   ]
  },
  {
   "cell_type": "code",
   "execution_count": 44,
   "metadata": {},
   "outputs": [
    {
     "data": {
      "text/plain": [
       "array([ 3.9130314e-03, -4.8656703e-04, -3.7094073e-03,  3.8790342e-03,\n",
       "        3.4173666e-03, -5.3736079e-04,  2.1665089e-03, -4.8409593e-03,\n",
       "        2.4617449e-03,  7.0433214e-04, -2.9727581e-03,  1.9551544e-03,\n",
       "        8.6002117e-05, -1.9428448e-03,  9.0020191e-04, -2.2273168e-03,\n",
       "        2.0143022e-03,  4.4947182e-04,  6.7411907e-05,  1.5354299e-03,\n",
       "       -3.2944046e-03, -3.7541301e-03, -2.9581273e-03,  4.8234542e-03,\n",
       "       -1.2831853e-04, -1.7272996e-03, -4.6924856e-03,  4.3779099e-03,\n",
       "        2.9601590e-03,  2.0051606e-03,  4.2099697e-03,  1.9432944e-03,\n",
       "       -3.1817188e-03, -3.3523487e-03,  4.8688804e-03,  4.0630829e-03,\n",
       "       -3.6006833e-03, -1.0752113e-03, -1.4529920e-03, -1.3796366e-03,\n",
       "       -1.4299072e-03, -2.9657220e-05,  1.4245530e-03, -4.3098762e-04,\n",
       "        1.8426932e-03,  1.6093147e-03,  3.3115479e-03,  4.9450244e-03,\n",
       "        3.2893295e-04,  4.8569920e-03,  3.7863682e-04,  4.1657230e-03,\n",
       "       -1.8801286e-03, -2.6249792e-03, -8.2395232e-04,  4.1372688e-03,\n",
       "        9.6095499e-04,  3.1242361e-03,  3.2264788e-03, -1.0766635e-03,\n",
       "        1.5086529e-04, -1.2680741e-03, -3.6601380e-03,  2.8648155e-03,\n",
       "       -2.0399885e-03,  3.8614214e-04,  8.3172764e-04, -1.5492956e-03,\n",
       "        4.6182717e-03,  2.9465342e-03, -1.3722453e-03, -3.5015270e-03,\n",
       "       -1.2473487e-03, -3.7909769e-03,  4.5927465e-03,  1.4274864e-03,\n",
       "        3.2848743e-04, -4.5486577e-03,  4.0246071e-03,  8.9420186e-04,\n",
       "        1.5351550e-03, -3.4717740e-03,  2.1121425e-03,  3.1861537e-03,\n",
       "        4.7686622e-03, -2.1571184e-03,  2.6777445e-03,  3.7729330e-04,\n",
       "        1.9803329e-03,  4.2604799e-03,  3.9291182e-03,  4.7285357e-03,\n",
       "        2.7128202e-03, -1.5334853e-03, -3.0823858e-03, -3.8161133e-03,\n",
       "       -9.8340952e-06,  3.4110122e-03,  2.5490131e-03, -4.2557302e-03],\n",
       "      dtype=float32)"
      ]
     },
     "execution_count": 44,
     "metadata": {},
     "output_type": "execute_result"
    }
   ],
   "source": [
    "#model['post'].shape\n",
    "model.wv.__getitem__('post') "
   ]
  },
  {
   "cell_type": "code",
   "execution_count": 45,
   "metadata": {},
   "outputs": [
    {
     "data": {
      "text/plain": [
       "array([-2.7434132e-03,  3.6404908e-03,  1.9748688e-03,  4.4759810e-03,\n",
       "       -1.7293307e-03,  6.7555701e-04,  4.3302467e-03, -2.1244455e-03,\n",
       "       -2.6923290e-03,  2.0080227e-03,  1.8753273e-05,  2.4566355e-03,\n",
       "       -1.0389391e-03, -3.9405590e-03, -5.0802424e-04,  4.2147939e-03,\n",
       "        4.2179497e-03, -3.0572445e-03,  4.3410975e-03, -2.9469898e-03,\n",
       "       -3.4509993e-03,  5.8436545e-04,  4.7644549e-03,  3.6168320e-03,\n",
       "       -4.8208493e-03,  9.1294052e-05, -3.4309474e-03,  1.7277302e-03,\n",
       "        4.2352024e-03,  1.3163957e-03,  4.7499463e-03, -6.9117133e-04,\n",
       "       -3.0437661e-03,  1.4166406e-03,  4.3331494e-04,  2.5782299e-03,\n",
       "       -3.9040388e-03,  3.7876365e-03, -4.1162670e-03, -2.6294757e-03,\n",
       "        2.7954802e-03, -3.2070852e-03,  2.4874532e-03, -1.9329555e-03,\n",
       "        7.3214801e-04, -4.0591736e-03, -1.3630140e-04,  1.4597587e-03,\n",
       "       -2.9531263e-03,  7.4602017e-04, -3.5289410e-03, -4.5833434e-03,\n",
       "        4.4579902e-03, -1.4154610e-03,  5.1281496e-04,  7.3832512e-04,\n",
       "       -2.9986193e-03,  1.5361246e-03, -2.8639505e-04, -3.6508527e-03,\n",
       "       -2.8706103e-04,  3.6534048e-03, -3.7464136e-03,  4.0732929e-03,\n",
       "        4.9894541e-03, -4.0899469e-03,  3.9640898e-03,  1.6321642e-03,\n",
       "        3.2459260e-03, -1.8720424e-03,  4.6301349e-03,  5.6070444e-04,\n",
       "       -3.2732375e-03, -3.9889570e-03, -3.9675701e-03, -2.3723068e-03,\n",
       "       -1.5939578e-03, -3.5872364e-03, -1.5226733e-03,  3.0571264e-03,\n",
       "        1.3981496e-03,  1.6741924e-03, -2.5966698e-03, -4.4685607e-03,\n",
       "       -2.3873739e-03,  3.0127028e-03,  3.8075682e-03, -5.6676031e-04,\n",
       "        4.7428440e-03, -5.2964693e-04,  4.0149791e-03,  2.5882246e-03,\n",
       "        3.6121081e-03, -4.5088446e-03,  1.7077873e-03,  2.3400993e-03,\n",
       "        1.0232563e-03,  2.9780979e-03, -3.0985770e-03,  2.9055099e-03],\n",
       "      dtype=float32)"
      ]
     },
     "execution_count": 45,
     "metadata": {},
     "output_type": "execute_result"
    }
   ],
   "source": [
    "model.wv.__getitem__('book') "
   ]
  },
  {
   "cell_type": "code",
   "execution_count": 69,
   "metadata": {},
   "outputs": [],
   "source": [
    "import numpy as np\n",
    " \n",
    "def sent_vectorizer(sentence_array, model):\n",
    "    \n",
    "    #vector for each sentence\n",
    "    sent_vec = np.zeros(100)\n",
    "    \n",
    "    #number of words\n",
    "    numw = 0 \n",
    "\n",
    "    #for in sentence, word by word (w by w)\n",
    "    for w in sentence_array:\n",
    "        try:\n",
    "            #model[w] is a embbeding (matrix) representation of the word w\n",
    "            sent_vec = np.add(sent_vec, model[w])\n",
    "            #print(sent_vec,'\\n')\n",
    "            #print(w,'\\n')\n",
    "            numw+=1 #counter\n",
    "        except:\n",
    "            pass\n",
    " \n",
    "    return sent_vec / np.sqrt(sent_vec.dot(sent_vec))"
   ]
  },
  {
   "cell_type": "code",
   "execution_count": 71,
   "metadata": {},
   "outputs": [
    {
     "data": {
      "text/plain": [
       "['this', 'is', 'the', 'good', 'machine', 'learning', 'book']"
      ]
     },
     "execution_count": 71,
     "metadata": {},
     "output_type": "execute_result"
    }
   ],
   "source": [
    "#test:\n",
    "my_word = sentences[0]\n",
    "my_word"
   ]
  },
  {
   "cell_type": "code",
   "execution_count": 72,
   "metadata": {},
   "outputs": [
    {
     "name": "stderr",
     "output_type": "stream",
     "text": [
      "C:\\Users\\Allan Santos\\.conda\\envs\\AM\\lib\\site-packages\\ipykernel_launcher.py:15: DeprecationWarning: Call to deprecated `__getitem__` (Method will be removed in 4.0.0, use self.wv.__getitem__() instead).\n",
      "  from ipykernel import kernelapp as app\n"
     ]
    },
    {
     "data": {
      "text/plain": [
       "array([ 0.08246744,  0.05630752,  0.12776424,  0.06662572, -0.00658312,\n",
       "       -0.03302278, -0.14219772,  0.11775502, -0.07005331, -0.12954468,\n",
       "        0.0880727 ,  0.11110333, -0.09008793, -0.19726028,  0.09413116,\n",
       "        0.08067621,  0.04292691,  0.06884543,  0.11887641, -0.00861042,\n",
       "       -0.14323871,  0.05667008,  0.15034739,  0.03044938, -0.1868967 ,\n",
       "        0.13378373,  0.17771789,  0.02746044,  0.08336929, -0.0615005 ,\n",
       "        0.23812369,  0.0610391 ,  0.03565153,  0.09537079,  0.06424216,\n",
       "       -0.02161871, -0.07050552, -0.03673675,  0.02468971,  0.0911842 ,\n",
       "       -0.03657679, -0.24384631,  0.02056566,  0.03425388, -0.20298784,\n",
       "       -0.15118342,  0.02476294,  0.0184942 , -0.09754925,  0.05171479,\n",
       "       -0.06408281,  0.01694303, -0.02225408,  0.03911296,  0.08389923,\n",
       "        0.04443269, -0.08447099, -0.20983539,  0.14435786, -0.03975992,\n",
       "        0.00516352, -0.0285826 , -0.18328891, -0.01719976,  0.0836587 ,\n",
       "        0.12966483,  0.02371609, -0.13180779,  0.00808612, -0.04431865,\n",
       "        0.09944341,  0.1365842 , -0.12955829, -0.20576371, -0.13015274,\n",
       "       -0.0128093 ,  0.11430264, -0.02577402, -0.08377019, -0.02791024,\n",
       "        0.0423771 , -0.04094344, -0.04919988, -0.00968949,  0.05570606,\n",
       "        0.1199663 ,  0.13894614, -0.09883717,  0.02136602,  0.11396467,\n",
       "        0.025763  ,  0.04514866,  0.02216538,  0.03010905, -0.23347852,\n",
       "       -0.0485926 , -0.08838004,  0.02987939,  0.0049151 ,  0.07839451])"
      ]
     },
     "execution_count": 72,
     "metadata": {},
     "output_type": "execute_result"
    }
   ],
   "source": [
    "sent_vectorizer(my_word, model)"
   ]
  },
  {
   "cell_type": "code",
   "execution_count": 73,
   "metadata": {},
   "outputs": [
    {
     "name": "stderr",
     "output_type": "stream",
     "text": [
      "C:\\Users\\Allan Santos\\.conda\\envs\\AM\\lib\\site-packages\\ipykernel_launcher.py:15: DeprecationWarning: Call to deprecated `__getitem__` (Method will be removed in 4.0.0, use self.wv.__getitem__() instead).\n",
      "  from ipykernel import kernelapp as app\n"
     ]
    }
   ],
   "source": [
    "#vocabulary LIST: a list containing each sentence that will be vectorized\n",
    "V=[]\n",
    "\n",
    "#for in each sentence from matrix of sentences\n",
    "for sentence in sentences:\n",
    "    V.append(sent_vectorizer(sentence, model))"
   ]
  },
  {
   "cell_type": "code",
   "execution_count": 75,
   "metadata": {},
   "outputs": [
    {
     "data": {
      "text/plain": [
       "list"
      ]
     },
     "execution_count": 75,
     "metadata": {},
     "output_type": "execute_result"
    }
   ],
   "source": [
    "type(V)"
   ]
  },
  {
   "cell_type": "code",
   "execution_count": 81,
   "metadata": {},
   "outputs": [
    {
     "data": {
      "text/plain": [
       "8"
      ]
     },
     "execution_count": 81,
     "metadata": {},
     "output_type": "execute_result"
    }
   ],
   "source": [
    "# V is a list contaning 8 sentences vectorized\n",
    "len(V)"
   ]
  },
  {
   "cell_type": "code",
   "execution_count": 84,
   "metadata": {},
   "outputs": [
    {
     "name": "stdout",
     "output_type": "stream",
     "text": [
      "[[0, 0, 0, 0, 0, 0, 0, 0], [0, 0, 0, 0, 0, 0, 0, 0], [0, 0, 0, 0, 0, 0, 0, 0], [0, 0, 0, 0, 0, 0, 0, 0], [0, 0, 0, 0, 0, 0, 0, 0], [0, 0, 0, 0, 0, 0, 0, 0], [0, 0, 0, 0, 0, 0, 0, 0], [0, 0, 0, 0, 0, 0, 0, 0]] \n",
      "\n",
      "\n",
      "[[0, 0.48628675659894616, 0.21789673228346268, 0.5001731177229513, 0.6369015470995704, 0.35920403280149926, 0.12710250987708702, 0.4406317691069045], [0, 0, 0.2679079189990411, 0.3470464465705319, 0.3583087020627382, 0.18534657010058803, 0.1215339324056778, 0.3684652262378986], [0, 0, 0, 0.15679411688964462, 0.009568733433535816, 0.08281696864156465, 0.09615286982401605, 0.16191445076609765], [0, 0, 0, 0, 0.5053488181651911, 0.5083770411442853, 0.10302209026632986, 0.7753549598011257], [0, 0, 0, 0, 0, 0.22559641791187424, 0.10090083335373037, 0.4749494585547026], [0, 0, 0, 0, 0, 0, 0.36315617255135246, 0.4481099955142719], [0, 0, 0, 0, 0, 0, 0, -0.01549600122179605], [0, 0, 0, 0, 0, 0, 0, 0]]\n"
     ]
    }
   ],
   "source": [
    "from numpy import dot\n",
    "from numpy.linalg import norm\n",
    "\n",
    "results = [[0 for i in range(len(V))] for j in range(len(V))] \n",
    "print(results, '\\n\\n')\n",
    "\n",
    "#from index [0] to [7]\n",
    "for i in range (len(V) - 1):\n",
    "    for j in range(i+1, len(V)):\n",
    "        \n",
    "         #measuring SIMILARITY? \n",
    "        results[i][j] = dot(V[i],V[j])/norm(V[i])/norm(V[j])\n",
    " \n",
    " \n",
    "print (results)"
   ]
  },
  {
   "cell_type": "code",
   "execution_count": 85,
   "metadata": {},
   "outputs": [
    {
     "data": {
      "text/plain": [
       "list"
      ]
     },
     "execution_count": 85,
     "metadata": {},
     "output_type": "execute_result"
    }
   ],
   "source": [
    "type(results)"
   ]
  },
  {
   "cell_type": "code",
   "execution_count": 90,
   "metadata": {},
   "outputs": [
    {
     "data": {
      "text/plain": [
       "[0,\n",
       " 0,\n",
       " 0,\n",
       " 0.15679411688964462,\n",
       " 0.009568733433535816,\n",
       " 0.08281696864156465,\n",
       " 0.09615286982401605,\n",
       " 0.16191445076609765]"
      ]
     },
     "execution_count": 90,
     "metadata": {},
     "output_type": "execute_result"
    }
   ],
   "source": [
    "results[2]"
   ]
  },
  {
   "cell_type": "markdown",
   "metadata": {},
   "source": []
  }
 ],
 "metadata": {
  "kernelspec": {
   "display_name": "Python 3",
   "language": "python",
   "name": "python3"
  },
  "language_info": {
   "codemirror_mode": {
    "name": "ipython",
    "version": 3
   },
   "file_extension": ".py",
   "mimetype": "text/x-python",
   "name": "python",
   "nbconvert_exporter": "python",
   "pygments_lexer": "ipython3",
   "version": "3.7.3"
  }
 },
 "nbformat": 4,
 "nbformat_minor": 2
}
