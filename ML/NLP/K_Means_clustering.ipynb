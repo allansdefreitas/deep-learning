{
 "cells": [
  {
   "cell_type": "code",
   "execution_count": 1,
   "metadata": {},
   "outputs": [],
   "source": [
    "# -*- coding: utf-8 -*-\n",
    " \n",
    "from gensim.models import Word2Vec\n",
    " \n",
    "from nltk.cluster import KMeansClusterer\n",
    "import nltk"
   ]
  },
  {
   "cell_type": "code",
   "execution_count": 2,
   "metadata": {},
   "outputs": [],
   "source": [
    "from sklearn import cluster\n",
    "from sklearn import metrics\n",
    " \n",
    "# training data\n",
    " \n",
    "sentences = [['this', 'is', 'the', 'good', 'machine', 'learning', 'book'],\n",
    "            ['this', 'is',  'another', 'book'],\n",
    "            ['one', 'more', 'book'],\n",
    "            ['this', 'is', 'the', 'new', 'post'],\n",
    "          ['this', 'is', 'about', 'machine', 'learning', 'post'],  \n",
    "            ['and', 'this', 'is', 'the', 'last', 'post']]\n",
    " "
   ]
  },
  {
   "cell_type": "code",
   "execution_count": 20,
   "metadata": {},
   "outputs": [],
   "source": [
    "# training model\n",
    "model = Word2Vec(sentences, min_count=1)"
   ]
  },
  {
   "cell_type": "code",
   "execution_count": 21,
   "metadata": {},
   "outputs": [
    {
     "data": {
      "text/plain": [
       "{'this': <gensim.models.keyedvectors.Vocab at 0x286481fb550>,\n",
       " 'is': <gensim.models.keyedvectors.Vocab at 0x286481fbbe0>,\n",
       " 'the': <gensim.models.keyedvectors.Vocab at 0x286481fbe80>,\n",
       " 'good': <gensim.models.keyedvectors.Vocab at 0x286481fbda0>,\n",
       " 'machine': <gensim.models.keyedvectors.Vocab at 0x286481fb438>,\n",
       " 'learning': <gensim.models.keyedvectors.Vocab at 0x286481fb7b8>,\n",
       " 'book': <gensim.models.keyedvectors.Vocab at 0x286481fb278>,\n",
       " 'another': <gensim.models.keyedvectors.Vocab at 0x2864852b080>,\n",
       " 'one': <gensim.models.keyedvectors.Vocab at 0x2864852b0f0>,\n",
       " 'more': <gensim.models.keyedvectors.Vocab at 0x2864852b128>,\n",
       " 'new': <gensim.models.keyedvectors.Vocab at 0x2864852b198>,\n",
       " 'post': <gensim.models.keyedvectors.Vocab at 0x2864852b208>,\n",
       " 'about': <gensim.models.keyedvectors.Vocab at 0x2864852b278>,\n",
       " 'and': <gensim.models.keyedvectors.Vocab at 0x2864852b2e8>,\n",
       " 'last': <gensim.models.keyedvectors.Vocab at 0x2864852b320>}"
      ]
     },
     "execution_count": 21,
     "metadata": {},
     "output_type": "execute_result"
    }
   ],
   "source": [
    "model.wv.vocab"
   ]
  },
  {
   "cell_type": "code",
   "execution_count": 46,
   "metadata": {},
   "outputs": [
    {
     "name": "stdout",
     "output_type": "stream",
     "text": [
      "[[-0.00242109  0.00411752 -0.00476821 ...  0.00373379  0.00108744\n",
      "  -0.00195194]\n",
      " [ 0.00223581 -0.00403141  0.00420539 ...  0.00435081  0.00141512\n",
      "   0.00355269]\n",
      " [-0.00328998 -0.00041175 -0.00267557 ... -0.00239782  0.00086593\n",
      "   0.00211495]\n",
      " ...\n",
      " [-0.00141257  0.0017316  -0.00483486 ... -0.00024886 -0.00314666\n",
      "   0.0018396 ]\n",
      " [ 0.00361087  0.00496778  0.00463737 ... -0.00361479  0.00010077\n",
      "   0.00298053]\n",
      " [ 0.0008411  -0.00089117  0.00415321 ...  0.00406    -0.00136929\n",
      "   0.00281756]]\n"
     ]
    }
   ],
   "source": [
    "# get vector data\n",
    "#X = model[model.vocab] DEPRECATED model.vocab -> model.wv.vocab!\n",
    "#X = model[model.wv.vocab] DEPRECATED model[..] -> model.wv.__getitem__(...)!\n",
    "\n",
    "X = model.wv.__getitem__(model.wv.vocab)\n",
    "#show embedding for all the words\n",
    "print (X)"
   ]
  },
  {
   "cell_type": "code",
   "execution_count": 23,
   "metadata": {},
   "outputs": [
    {
     "data": {
      "text/plain": [
       "15"
      ]
     },
     "execution_count": 23,
     "metadata": {},
     "output_type": "execute_result"
    }
   ],
   "source": [
    "#fifteen words..fifteen embeddings\n",
    "len(X)"
   ]
  },
  {
   "cell_type": "code",
   "execution_count": 40,
   "metadata": {},
   "outputs": [
    {
     "name": "stdout",
     "output_type": "stream",
     "text": [
      "THIS | IS: -0.14058447\n",
      "POST | BOOK -0.047957685\n",
      "BOOK | BOOK 1.0\n"
     ]
    }
   ],
   "source": [
    "#How similar are two words? \n",
    "\n",
    "#print (\"THIS | IS:\", model.similarity('this', 'is')) DEPRECATED!\n",
    "#INSTEAD USE:\n",
    "print (\"THIS | IS:\", model.wv.similarity('this', 'is'))\n",
    "\n",
    "#What do negative similarity means?\n",
    "print (\"POST | BOOK\", model.wv.similarity('post', 'book')) \n",
    "\n",
    "#the words are equals: similarity is 1\n",
    "print (\"BOOK | BOOK\", model.wv.similarity('book', 'book')) "
   ]
  },
  {
   "cell_type": "code",
   "execution_count": 38,
   "metadata": {},
   "outputs": [
    {
     "name": "stdout",
     "output_type": "stream",
     "text": [
      "[('post', 0.19839924573898315), ('more', 0.13478514552116394), ('the', 0.11639807373285294)]\n"
     ]
    },
    {
     "name": "stderr",
     "output_type": "stream",
     "text": [
      "C:\\Users\\Allan Santos\\.conda\\envs\\AM\\lib\\site-packages\\ipykernel_launcher.py:1: DeprecationWarning: Call to deprecated `most_similar` (Method will be removed in 4.0.0, use self.wv.most_similar() instead).\n",
      "  \"\"\"Entry point for launching an IPython kernel.\n"
     ]
    }
   ],
   "source": [
    "#top n MOST similar (take a look! positive similarity)\n",
    "print (model.most_similar(positive=['machine'], negative=[], topn=3))"
   ]
  },
  {
   "cell_type": "code",
   "execution_count": 42,
   "metadata": {},
   "outputs": [
    {
     "name": "stdout",
     "output_type": "stream",
     "text": [
      "[-3.2899824e-03 -4.1175185e-04 -2.6755712e-03 -6.3765660e-04\n",
      " -1.3618674e-03 -1.5529931e-03  4.4900947e-03  4.6457960e-03\n",
      " -1.1972295e-03  4.8993346e-03 -1.3156209e-04 -2.4961655e-03\n",
      "  4.5221185e-04  5.1671519e-05  1.0341058e-03  3.5042490e-03\n",
      "  3.9606681e-03 -2.2892037e-03 -4.6046753e-03 -3.0490165e-03\n",
      "  1.0120862e-03  4.9851206e-03  4.7959764e-03  8.5816049e-04\n",
      " -6.9625565e-04  4.1750884e-03 -2.4598106e-04 -2.2959900e-03\n",
      "  2.7792309e-03 -2.2690822e-03 -4.3615107e-03 -4.8775403e-03\n",
      "  2.1430906e-03 -1.9477645e-03 -4.8100664e-03 -4.1603809e-03\n",
      " -9.3931414e-04  2.1332824e-03  4.4223454e-04  4.1901493e-03\n",
      "  7.6026219e-04 -4.1550528e-03 -4.1240249e-03  4.6567074e-03\n",
      "  3.2530450e-03  4.3892697e-03 -4.1671852e-03  4.4299909e-03\n",
      "  3.4736735e-03  1.0776559e-03 -5.6782051e-04 -1.4312604e-03\n",
      " -2.2374988e-03 -3.4262722e-03  3.1383804e-03  1.8392528e-03\n",
      " -3.9255116e-03  2.7090283e-03 -3.3215492e-03  3.7589632e-03\n",
      "  1.9630548e-03 -3.1463664e-03 -1.4562138e-04 -3.8595318e-03\n",
      " -4.8171962e-03 -1.2008527e-03  2.5933911e-03 -6.6112628e-04\n",
      " -4.6206555e-05 -3.9514811e-03  1.9920284e-03 -4.2696744e-03\n",
      "  2.9429980e-03 -3.8465909e-03  2.4155211e-03 -2.4730670e-03\n",
      " -4.6856874e-03 -4.6044290e-03  3.5445336e-03 -4.1762823e-03\n",
      " -3.2532131e-03  2.4224850e-03 -1.9164113e-04 -4.2214398e-03\n",
      " -4.4601206e-03 -2.0828650e-03 -1.2038025e-03 -8.1361248e-04\n",
      "  2.5646724e-03  3.1608399e-03  3.0344508e-03 -4.9482514e-03\n",
      "  2.5252528e-03  3.2984929e-03 -2.8163935e-03 -1.4972214e-03\n",
      " -1.8956934e-04 -2.3978231e-03  8.6592877e-04  2.1149481e-03]\n"
     ]
    }
   ],
   "source": [
    "#embedding representations of word 'the'\n",
    "#print (model['the']) DEPRECATED!\n",
    "print(model.wv.__getitem__('the'))"
   ]
  },
  {
   "cell_type": "code",
   "execution_count": 43,
   "metadata": {},
   "outputs": [
    {
     "name": "stdout",
     "output_type": "stream",
     "text": [
      "['this', 'is', 'the', 'good', 'machine', 'learning', 'book', 'another', 'one', 'more', 'new', 'post', 'about', 'and', 'last']\n"
     ]
    }
   ],
   "source": [
    "#All voca words\n",
    "print (list(model.wv.vocab))"
   ]
  },
  {
   "cell_type": "code",
   "execution_count": 47,
   "metadata": {},
   "outputs": [
    {
     "name": "stdout",
     "output_type": "stream",
     "text": [
      "15\n"
     ]
    }
   ],
   "source": [
    "#How many words in vocab?\n",
    "print (len(list(model.wv.vocab)))"
   ]
  },
  {
   "cell_type": "code",
   "execution_count": 50,
   "metadata": {},
   "outputs": [
    {
     "data": {
      "text/plain": [
       "15"
      ]
     },
     "execution_count": 50,
     "metadata": {},
     "output_type": "execute_result"
    }
   ],
   "source": [
    "len(X)"
   ]
  },
  {
   "cell_type": "code",
   "execution_count": 53,
   "metadata": {},
   "outputs": [
    {
     "name": "stdout",
     "output_type": "stream",
     "text": [
      "[2, 0, 0, 0, 0, 0, 2, 2, 2, 1, 1, 2, 2, 0, 0]\n"
     ]
    }
   ],
   "source": [
    "#Using K-Means Clustering from NLTK library ------------------------------------\n",
    "#Three GROUPS (clusters)\n",
    "NUM_CLUSTERS=3 \n",
    "\n",
    "kclusterer = KMeansClusterer(NUM_CLUSTERS, distance=nltk.cluster.util.cosine_distance, repeats=25)\n",
    "assigned_clusters = kclusterer.cluster(X, assign_clusters=True)\n",
    "print (assigned_clusters)"
   ]
  },
  {
   "cell_type": "code",
   "execution_count": 54,
   "metadata": {},
   "outputs": [
    {
     "data": {
      "text/plain": [
       "15"
      ]
     },
     "execution_count": 54,
     "metadata": {},
     "output_type": "execute_result"
    }
   ],
   "source": [
    "len(assigned_clusters)"
   ]
  },
  {
   "cell_type": "code",
   "execution_count": 57,
   "metadata": {},
   "outputs": [
    {
     "data": {
      "text/plain": [
       "['this',\n",
       " 'is',\n",
       " 'the',\n",
       " 'good',\n",
       " 'machine',\n",
       " 'learning',\n",
       " 'book',\n",
       " 'another',\n",
       " 'one',\n",
       " 'more',\n",
       " 'new',\n",
       " 'post',\n",
       " 'about',\n",
       " 'and',\n",
       " 'last']"
      ]
     },
     "execution_count": 57,
     "metadata": {},
     "output_type": "execute_result"
    }
   ],
   "source": [
    "#Associating WORDS with their respective CLUSTERS (WORD-CLUSTER pair)\n",
    "words = list(model.wv.vocab)\n",
    "words"
   ]
  },
  {
   "cell_type": "code",
   "execution_count": 67,
   "metadata": {},
   "outputs": [
    {
     "name": "stdout",
     "output_type": "stream",
     "text": [
      "this ( 2 )\n",
      "is ( 0 )\n",
      "the ( 0 )\n",
      "good ( 0 )\n",
      "machine ( 0 )\n",
      "learning ( 0 )\n",
      "book ( 2 )\n",
      "another ( 2 )\n",
      "one ( 2 )\n",
      "more ( 1 )\n",
      "new ( 1 )\n",
      "post ( 2 )\n",
      "about ( 2 )\n",
      "and ( 0 )\n",
      "last ( 0 )\n"
     ]
    }
   ],
   "source": [
    "for i, word in enumerate(words):  \n",
    "    print (word + \" ( \" + str(assigned_clusters[i]), \")\")"
   ]
  },
  {
   "cell_type": "code",
   "execution_count": 68,
   "metadata": {},
   "outputs": [],
   "source": [
    "#Using K-Means Clustering from SCIKIT-LEARN library ------------------------------------\n",
    "\n",
    "from sklearn import cluster\n",
    "from sklearn import metrics\n",
    "\n",
    "kmeans = cluster.KMeans(n_clusters=NUM_CLUSTERS)\n",
    "kmeans.fit(X)\n",
    " \n",
    "labels = kmeans.labels_\n",
    "centroids = kmeans.cluster_centers_"
   ]
  },
  {
   "cell_type": "code",
   "execution_count": 69,
   "metadata": {},
   "outputs": [
    {
     "name": "stdout",
     "output_type": "stream",
     "text": [
      "Cluster id labels for inputted data\n",
      "[1 2 1 1 1 0 2 2 2 1 1 1 1 0 1]\n"
     ]
    }
   ],
   "source": [
    "print (\"Cluster id labels for inputted data\")\n",
    "print (labels) "
   ]
  },
  {
   "cell_type": "code",
   "execution_count": 70,
   "metadata": {},
   "outputs": [
    {
     "name": "stdout",
     "output_type": "stream",
     "text": [
      "Centroids data\n",
      "[[ 6.9177477e-06  1.6006443e-03  1.9049257e-03 -5.9121894e-04\n",
      "   1.3017016e-03 -1.1415168e-03 -1.6622077e-03 -9.2844461e-04\n",
      "  -1.2923528e-04 -1.8626804e-03 -3.3412552e-03  1.2592296e-03\n",
      "   1.3445446e-03  4.9191545e-04  2.2963157e-03 -5.8345532e-04\n",
      "   1.3759849e-03  1.9565080e-03 -3.7321926e-03 -9.8906422e-04\n",
      "  -4.9333909e-04 -2.5486418e-03  3.3123619e-03 -1.5247508e-03\n",
      "  -1.8282372e-03 -3.2518841e-03 -1.7812004e-03 -3.6674254e-03\n",
      "  -1.7285456e-03 -2.0738579e-03  4.3240795e-03  2.0568706e-03\n",
      "   1.6833964e-04  8.5780933e-04 -4.5898327e-05  1.5055886e-03\n",
      "  -5.9501734e-05 -1.3360668e-03  8.9923607e-04 -3.4524049e-04\n",
      "  -8.7224267e-05  4.3548397e-03 -2.6606577e-03 -4.2134448e-04\n",
      "   1.2939156e-03  5.9643772e-04  1.3981445e-03  1.0892829e-03\n",
      "  -3.5215211e-03  4.8048068e-03  4.0823868e-03  4.0022791e-03\n",
      "  -1.5851683e-03 -3.6534981e-04 -3.0877078e-03 -8.5525739e-05\n",
      "  -1.9574454e-03 -8.4132794e-04  1.8343729e-03 -1.5108058e-03\n",
      "   1.1228116e-03 -5.1102415e-04  3.4186081e-03 -3.4831613e-03\n",
      "   7.6548464e-04  5.5986561e-04 -2.7839486e-03 -3.3524353e-03\n",
      "   3.4492896e-03 -1.9812484e-03 -1.1178191e-03 -2.1353234e-03\n",
      "  -2.5264681e-03  3.4057056e-03 -3.8883493e-03 -1.4035713e-03\n",
      "  -2.3963128e-03  8.3798059e-04  2.0967883e-03  2.0533127e-03\n",
      "  -3.9825137e-03  3.9209323e-03  2.4148549e-03 -1.7862272e-04\n",
      "  -2.8833249e-03  2.9938816e-04 -1.4686927e-03  3.8288084e-03\n",
      "  -2.2175910e-03  2.8728978e-03  2.1062628e-04 -1.0203288e-03\n",
      "  -1.8955664e-03  2.8823332e-03 -4.7211042e-03 -3.5214429e-03\n",
      "   1.8688091e-03 -2.3855276e-03  9.6599734e-04  1.4072926e-03]\n",
      " [-9.4436767e-04 -8.4734653e-05 -1.5595270e-03  5.4891646e-04\n",
      "  -8.4268861e-04  7.1300496e-04  8.2788360e-04  1.2018774e-03\n",
      "   2.6270514e-04  5.2872096e-04  1.2250397e-03 -3.3180369e-04\n",
      "  -9.0684101e-04  3.9597839e-04 -4.4421561e-04 -6.2736374e-04\n",
      "   6.5286062e-04  9.8762475e-04  6.6251826e-04  9.0014903e-05\n",
      "   7.8329112e-04  2.3189231e-03  7.5842318e-04  7.0598413e-04\n",
      "   3.8796366e-04  2.0468971e-03  8.7023951e-04 -1.0807076e-03\n",
      "  -1.3146201e-03 -2.3106155e-03  3.4099550e-04 -1.1184735e-03\n",
      "   1.5380721e-03 -5.2986131e-04 -3.8228766e-04 -1.3049756e-03\n",
      "   1.9570305e-03  5.8252702e-04  1.0937538e-03 -1.4174226e-04\n",
      "   9.5974596e-04 -2.0085499e-04  3.9031793e-04  9.5837086e-04\n",
      "  -2.0611656e-03  9.3408022e-04 -2.0329149e-03  2.0863214e-03\n",
      "   7.3315809e-04 -3.5524886e-04 -6.3151075e-04 -1.8508498e-03\n",
      "  -4.3562351e-05  1.0178215e-03  7.6588156e-04 -1.1773466e-03\n",
      "  -9.0474263e-05 -3.7518743e-04 -1.0422642e-03  1.5593955e-04\n",
      "   1.0563444e-03  1.1918265e-03  8.9301961e-04 -2.9896337e-03\n",
      "  -5.1116571e-04 -9.8799029e-04  1.8435635e-03 -8.5773383e-04\n",
      "  -7.7375723e-04 -2.1083604e-03  1.0306243e-03 -3.7820675e-04\n",
      "   8.4343844e-04  1.3724174e-03  1.3702603e-03  5.5072049e-04\n",
      "   8.2885672e-06  1.1081782e-03  1.3167838e-03 -8.8033994e-04\n",
      "   1.3097018e-03  3.0132048e-04 -1.5418448e-03 -9.4250479e-04\n",
      "  -1.2657427e-03 -2.4465824e-04 -4.9574889e-04 -4.3807249e-04\n",
      "  -8.0747443e-04 -7.5514603e-05  8.3663309e-04 -1.9055116e-03\n",
      "   1.8085774e-04 -1.2066780e-03 -2.8253125e-05  3.3796474e-04\n",
      "  -4.0720071e-05  1.5446679e-03 -8.3371939e-04  1.4230032e-03]\n",
      " [-1.5804637e-03 -9.5590315e-04  2.1928560e-03  1.9175513e-03\n",
      "  -5.2394753e-05  2.2203638e-03 -2.1013652e-03  1.1754222e-05\n",
      "  -2.6755698e-04  7.8495499e-04  2.2159617e-03 -1.8790679e-03\n",
      "   3.6093839e-03 -3.6607459e-03  3.2100093e-04  1.7854727e-03\n",
      "   1.3473006e-03 -1.6686474e-03 -2.4199912e-03  9.0150011e-04\n",
      "  -1.3138112e-03 -9.6459250e-04  2.3222251e-03  1.7533898e-03\n",
      "   8.2777516e-04  4.2105105e-04  2.0223511e-03 -1.8811809e-03\n",
      "  -1.4528782e-03 -1.0716035e-03 -1.3280637e-04 -2.3455624e-03\n",
      "  -1.7415133e-03 -1.1065531e-04  5.6134671e-04  1.9261640e-03\n",
      "   1.8445603e-03 -7.8143470e-04 -2.9976047e-03  1.5214013e-03\n",
      "  -2.4407469e-03 -2.6789696e-03  2.7827108e-03  1.6735066e-03\n",
      "   1.8881292e-03 -3.1171367e-06  1.1241387e-03  4.9065007e-04\n",
      "  -2.8029541e-03  3.7616596e-04  7.9812377e-04  2.0701122e-03\n",
      "   1.1491674e-03  3.4263553e-04 -9.4131165e-04  1.0757486e-03\n",
      "  -3.0337514e-03 -5.5493403e-04  1.2738477e-03 -2.3015228e-04\n",
      "   2.3846061e-04 -2.1880050e-03 -2.3850554e-04  2.4797409e-03\n",
      "   6.9858565e-04 -5.6887331e-04 -8.8514021e-04  2.8682180e-04\n",
      "  -1.6517860e-03  6.0689589e-04 -4.9613591e-06  2.4483397e-04\n",
      "   1.1581220e-03 -5.9452036e-04 -4.7126674e-04 -1.7565241e-03\n",
      "  -4.0669527e-04 -9.7971899e-04  3.5422854e-06  2.5966699e-04\n",
      "   1.0433770e-04 -1.7727765e-03 -2.7186429e-04 -1.9072231e-03\n",
      "   1.1836174e-03  1.1616021e-03  2.6986322e-03 -1.5430726e-03\n",
      "   5.1701989e-04 -2.0900136e-03  2.5769069e-03  1.2843497e-03\n",
      "   5.9243047e-04  1.2369363e-03  9.4915152e-04  2.5039287e-03\n",
      "   6.1960204e-04  6.1378750e-04  3.0201694e-04 -4.7099817e-04]]\n"
     ]
    }
   ],
   "source": [
    "print (\"Centroids data\")\n",
    "print (centroids)"
   ]
  },
  {
   "cell_type": "code",
   "execution_count": 71,
   "metadata": {},
   "outputs": [
    {
     "name": "stdout",
     "output_type": "stream",
     "text": [
      "Score (Opposite of the value of X on the K-means objective which is Sum of distances of samples to their closest cluster center):\n",
      "-0.009421166\n"
     ]
    }
   ],
   "source": [
    "print (\"Score (Opposite of the value of X on the K-means objective which is Sum of distances of samples to their closest cluster center):\")\n",
    "print (kmeans.score(X))"
   ]
  },
  {
   "cell_type": "code",
   "execution_count": 72,
   "metadata": {},
   "outputs": [
    {
     "name": "stdout",
     "output_type": "stream",
     "text": [
      "Silhouette_score: \n",
      "0.034664083\n"
     ]
    }
   ],
   "source": [
    "silhouette_score = metrics.silhouette_score(X, labels, metric='euclidean')\n",
    " \n",
    "print (\"Silhouette_score: \")\n",
    "print (silhouette_score)"
   ]
  },
  {
   "cell_type": "code",
   "execution_count": null,
   "metadata": {},
   "outputs": [],
   "source": []
  },
  {
   "cell_type": "code",
   "execution_count": null,
   "metadata": {},
   "outputs": [],
   "source": []
  }
 ],
 "metadata": {
  "kernelspec": {
   "display_name": "Python 3",
   "language": "python",
   "name": "python3"
  },
  "language_info": {
   "codemirror_mode": {
    "name": "ipython",
    "version": 3
   },
   "file_extension": ".py",
   "mimetype": "text/x-python",
   "name": "python",
   "nbconvert_exporter": "python",
   "pygments_lexer": "ipython3",
   "version": "3.7.3"
  }
 },
 "nbformat": 4,
 "nbformat_minor": 2
}
