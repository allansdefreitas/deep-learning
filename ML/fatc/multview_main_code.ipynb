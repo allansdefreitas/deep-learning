{
 "cells": [
  {
   "cell_type": "code",
   "execution_count": 1,
   "metadata": {},
   "outputs": [],
   "source": [
    "import numpy as np\n",
    "import pandas as pd\n",
    "import matplotlib.pyplot as plt\n",
    "from sklearn import preprocessing\n",
    "from sklearn.metrics.pairwise import euclidean_distances\n"
   ]
  },
  {
   "cell_type": "code",
   "execution_count": 2,
   "metadata": {},
   "outputs": [],
   "source": [
    "# START OF MAIN CODE ---------------------------------------------------------------------------------########################"
   ]
  },
  {
   "cell_type": "code",
   "execution_count": 3,
   "metadata": {},
   "outputs": [],
   "source": [
    "# MFEAT-KAR -----------------------------------------------------------------------------#############\n"
   ]
  },
  {
   "cell_type": "code",
   "execution_count": 4,
   "metadata": {},
   "outputs": [],
   "source": [
    "dados_kar = pd.read_csv('C:/datasets/mfeat-kar', delimiter='\\s+', header=None)\n"
   ]
  },
  {
   "cell_type": "code",
   "execution_count": 5,
   "metadata": {},
   "outputs": [
    {
     "data": {
      "text/plain": [
       "2000"
      ]
     },
     "execution_count": 5,
     "metadata": {},
     "output_type": "execute_result"
    }
   ],
   "source": [
    "numLinhas_kar = dados_kar.shape[0]\n",
    "numColunas_kar = dados_kar.shape[1]\n",
    "\n",
    "numLinhas_kar\n",
    "        "
   ]
  },
  {
   "cell_type": "code",
   "execution_count": 6,
   "metadata": {},
   "outputs": [
    {
     "data": {
      "text/plain": [
       "64"
      ]
     },
     "execution_count": 6,
     "metadata": {},
     "output_type": "execute_result"
    }
   ],
   "source": [
    "numColunas_kar"
   ]
  },
  {
   "cell_type": "code",
   "execution_count": 7,
   "metadata": {},
   "outputs": [
    {
     "data": {
      "text/plain": [
       "array([[-1.19354001, -1.92157541,  1.83653986, ...,  2.07224197,\n",
       "        -1.78357951, -0.28517412],\n",
       "       [-0.50934996, -2.1347926 , -0.2089806 , ...,  0.5951963 ,\n",
       "         0.45132277,  0.7765261 ],\n",
       "       [-1.10798694, -1.0447846 , -0.16815248, ...,  1.2753739 ,\n",
       "         0.65839276, -1.54896781],\n",
       "       ...,\n",
       "       [ 0.39028304, -1.56883781, -0.18087589, ..., -0.43339942,\n",
       "         0.05290387, -0.23329375],\n",
       "       [-0.05351061, -1.66208204, -0.42736157, ...,  1.61711592,\n",
       "         0.21936254, -0.04247747],\n",
       "       [ 1.60884916, -0.92296445,  0.72519641, ...,  0.06404164,\n",
       "         0.58753766,  0.21712698]])"
      ]
     },
     "execution_count": 7,
     "metadata": {},
     "output_type": "execute_result"
    }
   ],
   "source": [
    "#Normalizando com média 0 e desvio padrão 1\n",
    "dados_kar_normalizados = preprocessing.scale(dados_kar)\n",
    "dados_kar_normalizados"
   ]
  },
  {
   "cell_type": "code",
   "execution_count": 8,
   "metadata": {},
   "outputs": [
    {
     "data": {
      "text/plain": [
       "array([[ 0.        ,  8.53591548,  9.19233846, ..., 10.56634116,\n",
       "         8.71710808, 10.2453903 ],\n",
       "       [ 8.53591548,  0.        ,  9.84991062, ..., 11.01188734,\n",
       "         8.66078139, 10.69968324],\n",
       "       [ 9.19233846,  9.84991062,  0.        , ...,  9.85446776,\n",
       "         8.70168007, 10.90369135],\n",
       "       ...,\n",
       "       [10.56634116, 11.01188734,  9.85446776, ...,  0.        ,\n",
       "         8.37612444, 11.44533001],\n",
       "       [ 8.71710808,  8.66078139,  8.70168007, ...,  8.37612444,\n",
       "         0.        ,  9.4123038 ],\n",
       "       [10.2453903 , 10.69968324, 10.90369135, ..., 11.44533001,\n",
       "         9.4123038 ,  0.        ]])"
      ]
     },
     "execution_count": 8,
     "metadata": {},
     "output_type": "execute_result"
    }
   ],
   "source": [
    "# Calcula a distância euclidiana para o numero de colunas (64)\n",
    "matrizDistanciaEucKar = euclidean_distances(dados_kar_normalizados, dados_kar_normalizados)\n",
    "matrizDistanciaEucKar"
   ]
  },
  {
   "cell_type": "code",
   "execution_count": 9,
   "metadata": {},
   "outputs": [],
   "source": [
    "# MFEAT-FOU -----------------------------------------------------------------------------#############\n"
   ]
  },
  {
   "cell_type": "code",
   "execution_count": 10,
   "metadata": {},
   "outputs": [],
   "source": [
    "\n",
    "dados_fou = pd.read_csv('C:/datasets/mfeat-fou', delimiter='\\s+', header=None)\n"
   ]
  },
  {
   "cell_type": "code",
   "execution_count": 11,
   "metadata": {},
   "outputs": [
    {
     "data": {
      "text/plain": [
       "2000"
      ]
     },
     "execution_count": 11,
     "metadata": {},
     "output_type": "execute_result"
    }
   ],
   "source": [
    "numLinhas_fou = dados_fou.shape[0]\n",
    "numColunas_fou = dados_fou.shape[1]\n",
    "\n",
    "numLinhas_fou\n"
   ]
  },
  {
   "cell_type": "code",
   "execution_count": 12,
   "metadata": {},
   "outputs": [
    {
     "data": {
      "text/plain": [
       "76"
      ]
     },
     "execution_count": 12,
     "metadata": {},
     "output_type": "execute_result"
    }
   ],
   "source": [
    "numColunas_fou"
   ]
  },
  {
   "cell_type": "code",
   "execution_count": 13,
   "metadata": {},
   "outputs": [
    {
     "data": {
      "text/plain": [
       "array([[-1.30245067, -1.02163771, -1.20012317, ...,  0.96643443,\n",
       "        -1.09773269,  1.03419088],\n",
       "       [-1.48465024, -1.14276502, -1.18787917, ...,  1.35514092,\n",
       "        -0.70064333,  1.10923272],\n",
       "       [-1.64759166, -0.84944988, -1.16430673, ...,  1.35324753,\n",
       "        -0.84945383,  0.35541552],\n",
       "       ...,\n",
       "       [ 1.63332598, -0.33421707, -0.08285457, ..., -0.96360498,\n",
       "        -1.2284496 , -0.83986832],\n",
       "       [ 0.74411332, -1.16982877,  0.24099543, ..., -0.28603576,\n",
       "        -0.47077484, -0.71444403],\n",
       "       [ 0.93638811, -1.29563629, -0.26550368, ...,  0.06095674,\n",
       "        -1.43514367, -1.07872483]])"
      ]
     },
     "execution_count": 13,
     "metadata": {},
     "output_type": "execute_result"
    }
   ],
   "source": [
    "#Normalizando com média 0 e desvio padrão 1\n",
    "dados_fou_normalizados = preprocessing.scale(dados_fou)\n",
    "dados_fou_normalizados"
   ]
  },
  {
   "cell_type": "code",
   "execution_count": 14,
   "metadata": {},
   "outputs": [
    {
     "data": {
      "text/plain": [
       "array([[ 0.        ,  8.06562613,  7.80320571, ..., 12.01833333,\n",
       "        10.76930078, 11.90876743],\n",
       "       [ 8.06562613,  0.        ,  5.84868677, ..., 14.38830699,\n",
       "        12.68291834, 13.70439057],\n",
       "       [ 7.80320571,  5.84868677,  0.        , ..., 13.92577914,\n",
       "        12.54125069, 12.92238358],\n",
       "       ...,\n",
       "       [12.01833333, 14.38830699, 13.92577914, ...,  0.        ,\n",
       "        10.95241111, 12.28562708],\n",
       "       [10.76930078, 12.68291834, 12.54125069, ..., 10.95241111,\n",
       "         0.        ,  9.42782411],\n",
       "       [11.90876743, 13.70439057, 12.92238358, ..., 12.28562708,\n",
       "         9.42782411,  0.        ]])"
      ]
     },
     "execution_count": 14,
     "metadata": {},
     "output_type": "execute_result"
    }
   ],
   "source": [
    "# Calcula a distância euclidiana para o numero de colunas\n",
    "matrizDistanciaEucFou = euclidean_distances(dados_fou_normalizados, dados_fou_normalizados)\n",
    "matrizDistanciaEucFou"
   ]
  },
  {
   "cell_type": "code",
   "execution_count": 15,
   "metadata": {},
   "outputs": [],
   "source": [
    "# MFEAT-FAC -----------------------------------------------------------------------------#############\n"
   ]
  },
  {
   "cell_type": "code",
   "execution_count": 16,
   "metadata": {},
   "outputs": [],
   "source": [
    "dados_fac = pd.read_csv('C:/datasets/mfeat-fac', delimiter='\\s+', header=None)\n"
   ]
  },
  {
   "cell_type": "code",
   "execution_count": 17,
   "metadata": {},
   "outputs": [
    {
     "data": {
      "text/plain": [
       "2000"
      ]
     },
     "execution_count": 17,
     "metadata": {},
     "output_type": "execute_result"
    }
   ],
   "source": [
    "numLinhas_fac = dados_fou.shape[0]\n",
    "numColunas_fac = dados_fou.shape[1]\n",
    "\n",
    "numLinhas_fac"
   ]
  },
  {
   "cell_type": "code",
   "execution_count": 18,
   "metadata": {},
   "outputs": [
    {
     "data": {
      "text/plain": [
       "76"
      ]
     },
     "execution_count": 18,
     "metadata": {},
     "output_type": "execute_result"
    }
   ],
   "source": [
    "numColunas_fac"
   ]
  },
  {
   "cell_type": "code",
   "execution_count": 19,
   "metadata": {},
   "outputs": [
    {
     "name": "stderr",
     "output_type": "stream",
     "text": [
      "C:\\Users\\Allan Santos\\.conda\\envs\\AM\\lib\\site-packages\\ipykernel_launcher.py:2: DataConversionWarning: Data with input dtype int64 were all converted to float64 by the scale function.\n",
      "  \n"
     ]
    },
    {
     "data": {
      "text/plain": [
       "array([[-1.90735868, -0.79274325, -1.74027935, ...,  1.17558452,\n",
       "        -0.85869511, -0.09760513],\n",
       "       [-1.65531116, -1.18579904, -1.19783496, ...,  0.40013299,\n",
       "         0.65264858, -0.52900903],\n",
       "       [-1.72106269, -1.66112232, -1.31917121, ...,  0.78785876,\n",
       "        -0.35491388, -1.60751878],\n",
       "       ...,\n",
       "       [ 0.71174385, -0.21687082,  0.55083443, ...,  1.17558452,\n",
       "         1.66021104,  1.62801046],\n",
       "       [-0.27452907, -0.56422244,  0.65075839, ...,  0.40013299,\n",
       "         0.65264858,  0.33379877],\n",
       "       [ 0.90899844,  0.51439577,  0.65789582, ...,  0.01240722,\n",
       "        -0.85869511,  1.41230851]])"
      ]
     },
     "execution_count": 19,
     "metadata": {},
     "output_type": "execute_result"
    }
   ],
   "source": [
    "#Normalizando com média 0 e desvio padrão 1\n",
    "dados_fac_normalizados = preprocessing.scale(dados_fac)\n",
    "dados_fac_normalizados\n"
   ]
  },
  {
   "cell_type": "code",
   "execution_count": 20,
   "metadata": {},
   "outputs": [
    {
     "data": {
      "text/plain": [
       "array([[ 0.        ,  8.97733318, 10.26384656, ..., 20.26248467,\n",
       "        18.94151479, 22.74257104],\n",
       "       [ 8.97733318,  0.        ,  8.1396145 , ..., 18.73059065,\n",
       "        16.40316683, 20.95345162],\n",
       "       [10.26384656,  8.1396145 ,  0.        , ..., 20.01701331,\n",
       "        17.18634326, 22.86643324],\n",
       "       ...,\n",
       "       [20.26248467, 18.73059065, 20.01701331, ...,  0.        ,\n",
       "         9.52418856, 12.73072781],\n",
       "       [18.94151479, 16.40316683, 17.18634326, ...,  9.52418856,\n",
       "         0.        , 15.7032138 ],\n",
       "       [22.74257104, 20.95345162, 22.86643324, ..., 12.73072781,\n",
       "        15.7032138 ,  0.        ]])"
      ]
     },
     "execution_count": 20,
     "metadata": {},
     "output_type": "execute_result"
    }
   ],
   "source": [
    "# Calcula a distância euclidiana para o numero de colunas (76)\n",
    "matrizDistanciaEucFac = euclidean_distances(dados_fac_normalizados, dados_fac_normalizados)\n",
    "matrizDistanciaEucFac"
   ]
  },
  {
   "cell_type": "code",
   "execution_count": 21,
   "metadata": {},
   "outputs": [],
   "source": [
    "# END OF MAIN CODE ---------------------------------------------------------------------------------########################"
   ]
  },
  {
   "cell_type": "code",
   "execution_count": 22,
   "metadata": {},
   "outputs": [],
   "source": [
    "# FUNÇÃO DE CRITÉRIO -> J(G, A, U) -----------------------------------------------------------------########################"
   ]
  },
  {
   "cell_type": "code",
   "execution_count": 23,
   "metadata": {},
   "outputs": [
    {
     "data": {
      "text/plain": [
       "array([1, 2, 3])"
      ]
     },
     "execution_count": 23,
     "metadata": {},
     "output_type": "execute_result"
    }
   ],
   "source": [
    "np.array([1, 2, 3])"
   ]
  },
  {
   "cell_type": "code",
   "execution_count": 30,
   "metadata": {},
   "outputs": [],
   "source": [
    "a = np.matrix([[1,2,3],[4,5,6]])\n",
    "b = np.matrix([[7,8,9],[10,11,12]])"
   ]
  },
  {
   "cell_type": "code",
   "execution_count": 31,
   "metadata": {},
   "outputs": [
    {
     "data": {
      "text/plain": [
       "matrix([[1, 2, 3],\n",
       "        [4, 5, 6]])"
      ]
     },
     "execution_count": 31,
     "metadata": {},
     "output_type": "execute_result"
    }
   ],
   "source": [
    "a"
   ]
  },
  {
   "cell_type": "code",
   "execution_count": 32,
   "metadata": {},
   "outputs": [
    {
     "data": {
      "text/plain": [
       "matrix([[ 7,  8,  9],\n",
       "        [10, 11, 12]])"
      ]
     },
     "execution_count": 32,
     "metadata": {},
     "output_type": "execute_result"
    }
   ],
   "source": [
    "b"
   ]
  },
  {
   "cell_type": "code",
   "execution_count": 34,
   "metadata": {},
   "outputs": [
    {
     "data": {
      "text/plain": [
       "array([[[ 1,  2,  3],\n",
       "        [ 4,  5,  6]],\n",
       "\n",
       "       [[ 7,  8,  9],\n",
       "        [10, 11, 12]]])"
      ]
     },
     "execution_count": 34,
     "metadata": {},
     "output_type": "execute_result"
    }
   ],
   "source": [
    "np.array([a,b])"
   ]
  },
  {
   "cell_type": "code",
   "execution_count": null,
   "metadata": {},
   "outputs": [],
   "source": []
  },
  {
   "cell_type": "code",
   "execution_count": null,
   "metadata": {},
   "outputs": [],
   "source": []
  }
 ],
 "metadata": {
  "kernelspec": {
   "display_name": "Python 3",
   "language": "python",
   "name": "python3"
  },
  "language_info": {
   "codemirror_mode": {
    "name": "ipython",
    "version": 3
   },
   "file_extension": ".py",
   "mimetype": "text/x-python",
   "name": "python",
   "nbconvert_exporter": "python",
   "pygments_lexer": "ipython3",
   "version": "3.7.3"
  }
 },
 "nbformat": 4,
 "nbformat_minor": 2
}
