{
 "cells": [
  {
   "cell_type": "code",
   "execution_count": 129,
   "metadata": {},
   "outputs": [],
   "source": [
    "#From: https://scikit-learn.org/stable/modules/generated/sklearn.naive_bayes.GaussianNB.html\n",
    "import numpy as np\n",
    "import pandas as pd\n",
    "from sklearn.naive_bayes import GaussianNB\n",
    "from sklearn.model_selection import StratifiedKFold"
   ]
  },
  {
   "cell_type": "code",
   "execution_count": 130,
   "metadata": {},
   "outputs": [],
   "source": [
    "#Quantidade de folds\n",
    "k_folds = 10"
   ]
  },
  {
   "cell_type": "code",
   "execution_count": 131,
   "metadata": {},
   "outputs": [
    {
     "name": "stdout",
     "output_type": "stream",
     "text": [
      "[[-1.90735868 -0.79274325 -1.74027935 ...  1.17558452 -0.85869511\n",
      "  -0.09760513]\n",
      " [-1.65531116 -1.18579904 -1.19783496 ...  0.40013299  0.65264858\n",
      "  -0.52900903]\n",
      " [-1.72106269 -1.66112232 -1.31917121 ...  0.78785876 -0.35491388\n",
      "  -1.60751878]\n",
      " ...\n",
      " [ 0.71174385 -0.21687082  0.55083443 ...  1.17558452  1.66021104\n",
      "   1.62801046]\n",
      " [-0.27452907 -0.56422244  0.65075839 ...  0.40013299  0.65264858\n",
      "   0.33379877]\n",
      " [ 0.90899844  0.51439577  0.65789582 ...  0.01240722 -0.85869511\n",
      "   1.41230851]]\n"
     ]
    }
   ],
   "source": [
    "X_train_fac = pd.read_csv('datasets/mfeat-fac-normalizada-crisp.csv', delimiter =',', header=None)\n",
    "\n",
    "X_train_original = X_train_fac.iloc[:, 0: 216].get_values() # retorna como uma matriz e não como dataframe \n",
    "\n",
    "\n",
    "\n",
    "print(X_train_original)"
   ]
  },
  {
   "cell_type": "code",
   "execution_count": 132,
   "metadata": {},
   "outputs": [
    {
     "data": {
      "text/plain": [
       "array([5, 5, 5, ..., 2, 2, 0], dtype=int64)"
      ]
     },
     "execution_count": 132,
     "metadata": {},
     "output_type": "execute_result"
    }
   ],
   "source": [
    "#Pega a última coluna com todas suas linhas. Isso será nosso array de TRUE LABEL, com a marcação correta das classes\n",
    "#labels of data (classes of data)\n",
    "y_labeled = X_train_fac.iloc[:, 216].get_values()\n",
    "  \n",
    "y_labeled"
   ]
  },
  {
   "cell_type": "code",
   "execution_count": null,
   "metadata": {},
   "outputs": [],
   "source": []
  },
  {
   "cell_type": "code",
   "execution_count": null,
   "metadata": {},
   "outputs": [],
   "source": []
  },
  {
   "cell_type": "code",
   "execution_count": 133,
   "metadata": {},
   "outputs": [],
   "source": [
    "#Naive Bayes Classifier\n",
    "gauss1 = GaussianNB()"
   ]
  },
  {
   "cell_type": "code",
   "execution_count": 134,
   "metadata": {},
   "outputs": [],
   "source": [
    "#Naive Bayes Classifier\n",
    "gauss2 = GaussianNB()"
   ]
  },
  {
   "cell_type": "code",
   "execution_count": 135,
   "metadata": {},
   "outputs": [],
   "source": [
    "#  stratified KFold: For cross validation\n",
    "skf = StratifiedKFold(n_splits=k_folds)"
   ]
  },
  {
   "cell_type": "code",
   "execution_count": 136,
   "metadata": {},
   "outputs": [
    {
     "data": {
      "text/plain": [
       "10"
      ]
     },
     "execution_count": 136,
     "metadata": {},
     "output_type": "execute_result"
    }
   ],
   "source": [
    "# Splitting train data in folds (2 folds)\n",
    "skf.get_n_splits(X_train_original, y_labeled)"
   ]
  },
  {
   "cell_type": "code",
   "execution_count": 137,
   "metadata": {},
   "outputs": [],
   "source": [
    "somatorio_acuracia_gauss1 = 0\n",
    "somatorio_acuracia_gauss2 = 0"
   ]
  },
  {
   "cell_type": "code",
   "execution_count": 138,
   "metadata": {},
   "outputs": [],
   "source": [
    "\"\"\"\n",
    "1.for de i a K\n",
    "\ta. pega um fold para validação e o restante para treinamento (o método que faz isso por si)\n",
    "\tb. treina o modelo com os folds de treinamento e testa com os folds de validação pra ver se a predições estão corretas\n",
    "\tc. somatório: pega a acurácia atual (acurácia i)\n",
    "\n",
    "2.pega a média das acurácias (somatório acurácias / K)\n",
    "\"\"\"\n",
    "for train_index, test_index in skf.split(X_train_original, y_labeled):\n",
    "    \n",
    "    #Mostra como foi feita a divisão: mostra os índices dos elementos separados para treino e teste do fold atual \n",
    "    #print(\"TRAIN (index):\", train_index, \"TEST (index):\", test_index)  \n",
    "    \n",
    "    # PT: Separando os folds para treino e teste\n",
    "    X_train, X_test = X_train_original[train_index], X_train_original[test_index]\n",
    " \n",
    "    #print(\"X_train\", X_train)\n",
    "    #print(\"X_test\", X_test)\n",
    "        \n",
    "    # EN: validation for train and test (same indexes of X_train and X_test, at same order)\n",
    "    # PT: Separando os folds LABELED para conferir com o treino (y_train) E verificar a acurácia do teste (y_test)\n",
    "    y_train, y_test = y_labeled[train_index], y_labeled[test_index]\n",
    "    \n",
    "    #print(\"y_train\", y_train)\n",
    "    \n",
    "    \n",
    "    \"\"\"Treinando....................................... \"\"\"\n",
    "    #Treinando o modelo GaussianNB: associando os folds correspondentes para treinamento, OU SEJA, \n",
    "    #dados de treino x com os true labels de y\n",
    "    gauss1.fit(X_train, y_train)\n",
    "    gauss2.fit(X_train, y_train)\n",
    "    \n",
    "    \"\"\"Testando....................................... \"\"\"\n",
    "    #print(\"predict\",clf.predict( X_test ))\n",
    "    #print(\"y_test\", y_test)\n",
    "    \n",
    "    #Obtendo a acurácia atual: esse método retorna a média de acerto DESSA rodada de testes\n",
    "    #score: Returns the mean accuracy on the given test data and labels.\n",
    "    acuracia_atual_gauss1 = gauss1.score(X_test, y_test)\n",
    "    acuracia_atual_gauss2 = gauss2.score(X_test, y_test)\n",
    "    \n",
    "    #Fazendo somatório das acurácias para posterior média\n",
    "    somatorio_acuracia_gauss1 += acuracia_atual_gauss1\n",
    "    somatorio_acuracia_gauss2 += acuracia_atual_gauss2\n",
    "    \n",
    "    #print(\"acuracia_atual_gauss1:\", acuracia_atual_gauss1) \n",
    "    #print(\"acuracia_atual_gauss2: \", acuracia_atual_gauss2)"
   ]
  },
  {
   "cell_type": "code",
   "execution_count": 139,
   "metadata": {},
   "outputs": [
    {
     "data": {
      "text/plain": [
       "66.12201113636064"
      ]
     },
     "execution_count": 139,
     "metadata": {},
     "output_type": "execute_result"
    }
   ],
   "source": [
    "media_acuracia_gauss1 = (somatorio_acuracia_gauss1 / k_folds) * 100\n",
    "media_acuracia_gauss1"
   ]
  },
  {
   "cell_type": "code",
   "execution_count": 140,
   "metadata": {},
   "outputs": [
    {
     "data": {
      "text/plain": [
       "66.12201113636064"
      ]
     },
     "execution_count": 140,
     "metadata": {},
     "output_type": "execute_result"
    }
   ],
   "source": [
    "media_acuracia_gauss2 = (somatorio_acuracia_gauss2 / k_folds ) * 100\n",
    "media_acuracia_gauss2"
   ]
  },
  {
   "cell_type": "code",
   "execution_count": null,
   "metadata": {},
   "outputs": [],
   "source": []
  },
  {
   "cell_type": "code",
   "execution_count": null,
   "metadata": {},
   "outputs": [],
   "source": []
  },
  {
   "cell_type": "code",
   "execution_count": null,
   "metadata": {},
   "outputs": [],
   "source": []
  },
  {
   "cell_type": "code",
   "execution_count": null,
   "metadata": {},
   "outputs": [],
   "source": []
  },
  {
   "cell_type": "code",
   "execution_count": null,
   "metadata": {},
   "outputs": [],
   "source": []
  }
 ],
 "metadata": {
  "kernelspec": {
   "display_name": "Python 3",
   "language": "python",
   "name": "python3"
  },
  "language_info": {
   "codemirror_mode": {
    "name": "ipython",
    "version": 3
   },
   "file_extension": ".py",
   "mimetype": "text/x-python",
   "name": "python",
   "nbconvert_exporter": "python",
   "pygments_lexer": "ipython3",
   "version": "3.7.3"
  }
 },
 "nbformat": 4,
 "nbformat_minor": 2
}
